{
  "metadata": {
    "kernelspec": {
      "language": "python",
      "display_name": "Python 3",
      "name": "python3"
    },
    "language_info": {
      "name": "python",
      "version": "3.10.13",
      "mimetype": "text/x-python",
      "codemirror_mode": {
        "name": "ipython",
        "version": 3
      },
      "pygments_lexer": "ipython3",
      "nbconvert_exporter": "python",
      "file_extension": ".py"
    },
    "kaggle": {
      "accelerator": "none",
      "dataSources": [
        {
          "sourceId": 9017494,
          "sourceType": "datasetVersion",
          "datasetId": 5433737
        }
      ],
      "dockerImageVersionId": 30746,
      "isInternetEnabled": false,
      "language": "python",
      "sourceType": "notebook",
      "isGpuEnabled": false
    },
    "colab": {
      "name": "Employees-Burnout-Prediction",
      "provenance": [],
      "include_colab_link": true
    }
  },
  "nbformat_minor": 0,
  "nbformat": 4,
  "cells": [
    {
      "cell_type": "markdown",
      "metadata": {
        "id": "view-in-github",
        "colab_type": "text"
      },
      "source": [
        "<a href=\"https://colab.research.google.com/github/judith-chrysolite/Employees-Burnout-Prediction/blob/main/Employees_Burnout_Prediction.ipynb\" target=\"_parent\"><img src=\"https://colab.research.google.com/assets/colab-badge.svg\" alt=\"Open In Colab\"/></a>"
      ]
    },
    {
      "cell_type": "markdown",
      "source": [
        "# **Employee Burnout Prediction**"
      ],
      "metadata": {
        "id": "T7f8YTF9aEIf"
      }
    },
    {
      "cell_type": "markdown",
      "source": [
        "Employee burnout is a state of physical, emotional and mental exhaustion caused by excessive and prolonged stress. It can have serious consequences on an individual's well-being and can lead to decreased productivity and job performance. In today's fast-paced and constantly connected world, it is increasingly important to recognize and address the signs of burnout in order to maintain the health and well-being of employees.\n",
        "\n",
        "we will be exploring the use of regression techniques to predict employee burnout. By analyzing a dataset containing various factors that may contribute to burnout such as workload, mental fatigue job and work-life balance, we can develop a model to identify individuals who may be at risk of burnout. By proactively addressing these risk factors, organizations can help prevent burnout and promote the well-being of their employees.\n",
        "\n",
        "\n",
        "**Dataset: Are Your Employees Burning Out?**\n",
        "\n",
        "This [dataset](http://www.kaggle.com/datasets/blurredmachine/are-your-employees-burning-out?select=train.csv) consists of 9 columns as follows:\n",
        "\n",
        "\n",
        "* Employee ID: The unique ID allocated for each employee (example: fffe390032003000)\n",
        "* Date of Joining: The date-time when the employee has joined the organization (example: 2008-12-30)\n",
        "* Gender: The gender of the employee (Male/Female)\n",
        "* Company Type: The type of company where the employee is working (Service/Product)\n",
        "* WFH Setup Available: Is the work from home facility available for the employee (Yes/No)\n",
        "* Designation: The designation of the employee of work in the organization. In the range of [0.0, 5.0] bigger is higher designation.\n",
        "* Resource Allocation: The amount of resource allocated to the employee to work, ie. number of working hours. In the range of [1.0, 10.0](higher means more resource)\n",
        "* Mental Fatigue Score: The level of fatigue mentally the employee is facing. In the range of [0.0, 10.0] where 0.0 means no fatigue and 10.0 means completely fatigue.\n",
        "* Burn Rate: The value we need to predict for each employee telling the rate of Bur out while working. In the range of [0.0, 1.0] where the higher the value is more is the burn out."
      ],
      "metadata": {
        "id": "w6kjIeV1aEIi"
      }
    },
    {
      "cell_type": "markdown",
      "source": [
        "# IMPORTING NECESSARY LIBRARIES"
      ],
      "metadata": {
        "id": "YvqCDYh4aEIj"
      }
    },
    {
      "cell_type": "code",
      "source": [
        "# Importing necessary libraries\n",
        "import numpy as np\n",
        "import pandas as pd\n",
        "import matplotlib.pyplot as plt\n",
        "import seaborn as sns\n",
        "from sklearn.model_selection import train_test_split\n",
        "from sklearn.preprocessing import StandardScaler\n",
        "from sklearn.linear_model import LinearRegression\n",
        "from sklearn.ensemble import RandomForestRegressor\n",
        "from sklearn.neighbors import KNeighborsRegressor\n",
        "from sklearn.metrics import mean_squared_error, mean_absolute_error, r2_score\n",
        "import pickle\n",
        "import os"
      ],
      "metadata": {
        "execution": {
          "iopub.status.busy": "2024-07-23T14:13:48.298908Z",
          "iopub.execute_input": "2024-07-23T14:13:48.300267Z",
          "iopub.status.idle": "2024-07-23T14:13:48.30621Z",
          "shell.execute_reply.started": "2024-07-23T14:13:48.300226Z",
          "shell.execute_reply": "2024-07-23T14:13:48.304896Z"
        },
        "trusted": true,
        "id": "vA8B-ouHaEIk"
      },
      "execution_count": 72,
      "outputs": []
    },
    {
      "cell_type": "markdown",
      "source": [
        "# LOADING DATASET"
      ],
      "metadata": {
        "id": "PHLC74w1aEIl"
      }
    },
    {
      "cell_type": "code",
      "source": [
        "data= pd.read_excel(\"/content/employee_burnout_analysis-AI.xlsx\")"
      ],
      "metadata": {
        "execution": {
          "iopub.status.busy": "2024-07-23T14:13:48.316015Z",
          "iopub.execute_input": "2024-07-23T14:13:48.316992Z",
          "iopub.status.idle": "2024-07-23T14:13:52.017929Z",
          "shell.execute_reply.started": "2024-07-23T14:13:48.316957Z",
          "shell.execute_reply": "2024-07-23T14:13:52.016997Z"
        },
        "trusted": true,
        "id": "NxKlYcKIaEIm"
      },
      "execution_count": 73,
      "outputs": []
    },
    {
      "cell_type": "markdown",
      "source": [
        "# DATA OVERVIEW"
      ],
      "metadata": {
        "id": "nX5LfkQZaEIm"
      }
    },
    {
      "cell_type": "code",
      "source": [
        "data.shape"
      ],
      "metadata": {
        "execution": {
          "iopub.status.busy": "2024-07-23T14:13:52.019583Z",
          "iopub.execute_input": "2024-07-23T14:13:52.019904Z",
          "iopub.status.idle": "2024-07-23T14:13:52.026596Z",
          "shell.execute_reply.started": "2024-07-23T14:13:52.019876Z",
          "shell.execute_reply": "2024-07-23T14:13:52.025552Z"
        },
        "trusted": true,
        "id": "jFzUcRwiaEIn",
        "outputId": "824bc302-5a38-4cb0-fb06-183c1ff94f17",
        "colab": {
          "base_uri": "https://localhost:8080/"
        }
      },
      "execution_count": 74,
      "outputs": [
        {
          "output_type": "execute_result",
          "data": {
            "text/plain": [
              "(22750, 9)"
            ]
          },
          "metadata": {},
          "execution_count": 74
        }
      ]
    },
    {
      "cell_type": "code",
      "source": [
        "data.head()"
      ],
      "metadata": {
        "execution": {
          "iopub.status.busy": "2024-07-23T14:13:52.02803Z",
          "iopub.execute_input": "2024-07-23T14:13:52.028449Z",
          "iopub.status.idle": "2024-07-23T14:13:52.048289Z",
          "shell.execute_reply.started": "2024-07-23T14:13:52.028411Z",
          "shell.execute_reply": "2024-07-23T14:13:52.047098Z"
        },
        "trusted": true,
        "id": "ZrZbGDNDaEIo",
        "outputId": "24fe6659-cf7e-4ffa-a013-c2cf60351dd7",
        "colab": {
          "base_uri": "https://localhost:8080/",
          "height": 206
        }
      },
      "execution_count": 75,
      "outputs": [
        {
          "output_type": "execute_result",
          "data": {
            "text/plain": [
              "                Employee ID Date of Joining  Gender Company Type  \\\n",
              "0  fffe32003000360033003200      2008-09-30  Female      Service   \n",
              "1      fffe3700360033003500      2008-11-30    Male      Service   \n",
              "2  fffe31003300320037003900      2008-03-10  Female      Product   \n",
              "3  fffe32003400380032003900      2008-11-03    Male      Service   \n",
              "4  fffe31003900340031003600      2008-07-24  Female      Service   \n",
              "\n",
              "  WFH Setup Available  Designation  Resource Allocation  Mental Fatigue Score  \\\n",
              "0                  No            2                  3.0                   3.8   \n",
              "1                 Yes            1                  2.0                   5.0   \n",
              "2                 Yes            2                  NaN                   5.8   \n",
              "3                 Yes            1                  1.0                   2.6   \n",
              "4                  No            3                  7.0                   6.9   \n",
              "\n",
              "   Burn Rate  \n",
              "0       0.16  \n",
              "1       0.36  \n",
              "2       0.49  \n",
              "3       0.20  \n",
              "4       0.52  "
            ],
            "text/html": [
              "\n",
              "  <div id=\"df-3e972d8d-3754-4ddb-ac31-e7f30f60a777\" class=\"colab-df-container\">\n",
              "    <div>\n",
              "<style scoped>\n",
              "    .dataframe tbody tr th:only-of-type {\n",
              "        vertical-align: middle;\n",
              "    }\n",
              "\n",
              "    .dataframe tbody tr th {\n",
              "        vertical-align: top;\n",
              "    }\n",
              "\n",
              "    .dataframe thead th {\n",
              "        text-align: right;\n",
              "    }\n",
              "</style>\n",
              "<table border=\"1\" class=\"dataframe\">\n",
              "  <thead>\n",
              "    <tr style=\"text-align: right;\">\n",
              "      <th></th>\n",
              "      <th>Employee ID</th>\n",
              "      <th>Date of Joining</th>\n",
              "      <th>Gender</th>\n",
              "      <th>Company Type</th>\n",
              "      <th>WFH Setup Available</th>\n",
              "      <th>Designation</th>\n",
              "      <th>Resource Allocation</th>\n",
              "      <th>Mental Fatigue Score</th>\n",
              "      <th>Burn Rate</th>\n",
              "    </tr>\n",
              "  </thead>\n",
              "  <tbody>\n",
              "    <tr>\n",
              "      <th>0</th>\n",
              "      <td>fffe32003000360033003200</td>\n",
              "      <td>2008-09-30</td>\n",
              "      <td>Female</td>\n",
              "      <td>Service</td>\n",
              "      <td>No</td>\n",
              "      <td>2</td>\n",
              "      <td>3.0</td>\n",
              "      <td>3.8</td>\n",
              "      <td>0.16</td>\n",
              "    </tr>\n",
              "    <tr>\n",
              "      <th>1</th>\n",
              "      <td>fffe3700360033003500</td>\n",
              "      <td>2008-11-30</td>\n",
              "      <td>Male</td>\n",
              "      <td>Service</td>\n",
              "      <td>Yes</td>\n",
              "      <td>1</td>\n",
              "      <td>2.0</td>\n",
              "      <td>5.0</td>\n",
              "      <td>0.36</td>\n",
              "    </tr>\n",
              "    <tr>\n",
              "      <th>2</th>\n",
              "      <td>fffe31003300320037003900</td>\n",
              "      <td>2008-03-10</td>\n",
              "      <td>Female</td>\n",
              "      <td>Product</td>\n",
              "      <td>Yes</td>\n",
              "      <td>2</td>\n",
              "      <td>NaN</td>\n",
              "      <td>5.8</td>\n",
              "      <td>0.49</td>\n",
              "    </tr>\n",
              "    <tr>\n",
              "      <th>3</th>\n",
              "      <td>fffe32003400380032003900</td>\n",
              "      <td>2008-11-03</td>\n",
              "      <td>Male</td>\n",
              "      <td>Service</td>\n",
              "      <td>Yes</td>\n",
              "      <td>1</td>\n",
              "      <td>1.0</td>\n",
              "      <td>2.6</td>\n",
              "      <td>0.20</td>\n",
              "    </tr>\n",
              "    <tr>\n",
              "      <th>4</th>\n",
              "      <td>fffe31003900340031003600</td>\n",
              "      <td>2008-07-24</td>\n",
              "      <td>Female</td>\n",
              "      <td>Service</td>\n",
              "      <td>No</td>\n",
              "      <td>3</td>\n",
              "      <td>7.0</td>\n",
              "      <td>6.9</td>\n",
              "      <td>0.52</td>\n",
              "    </tr>\n",
              "  </tbody>\n",
              "</table>\n",
              "</div>\n",
              "    <div class=\"colab-df-buttons\">\n",
              "\n",
              "  <div class=\"colab-df-container\">\n",
              "    <button class=\"colab-df-convert\" onclick=\"convertToInteractive('df-3e972d8d-3754-4ddb-ac31-e7f30f60a777')\"\n",
              "            title=\"Convert this dataframe to an interactive table.\"\n",
              "            style=\"display:none;\">\n",
              "\n",
              "  <svg xmlns=\"http://www.w3.org/2000/svg\" height=\"24px\" viewBox=\"0 -960 960 960\">\n",
              "    <path d=\"M120-120v-720h720v720H120Zm60-500h600v-160H180v160Zm220 220h160v-160H400v160Zm0 220h160v-160H400v160ZM180-400h160v-160H180v160Zm440 0h160v-160H620v160ZM180-180h160v-160H180v160Zm440 0h160v-160H620v160Z\"/>\n",
              "  </svg>\n",
              "    </button>\n",
              "\n",
              "  <style>\n",
              "    .colab-df-container {\n",
              "      display:flex;\n",
              "      gap: 12px;\n",
              "    }\n",
              "\n",
              "    .colab-df-convert {\n",
              "      background-color: #E8F0FE;\n",
              "      border: none;\n",
              "      border-radius: 50%;\n",
              "      cursor: pointer;\n",
              "      display: none;\n",
              "      fill: #1967D2;\n",
              "      height: 32px;\n",
              "      padding: 0 0 0 0;\n",
              "      width: 32px;\n",
              "    }\n",
              "\n",
              "    .colab-df-convert:hover {\n",
              "      background-color: #E2EBFA;\n",
              "      box-shadow: 0px 1px 2px rgba(60, 64, 67, 0.3), 0px 1px 3px 1px rgba(60, 64, 67, 0.15);\n",
              "      fill: #174EA6;\n",
              "    }\n",
              "\n",
              "    .colab-df-buttons div {\n",
              "      margin-bottom: 4px;\n",
              "    }\n",
              "\n",
              "    [theme=dark] .colab-df-convert {\n",
              "      background-color: #3B4455;\n",
              "      fill: #D2E3FC;\n",
              "    }\n",
              "\n",
              "    [theme=dark] .colab-df-convert:hover {\n",
              "      background-color: #434B5C;\n",
              "      box-shadow: 0px 1px 3px 1px rgba(0, 0, 0, 0.15);\n",
              "      filter: drop-shadow(0px 1px 2px rgba(0, 0, 0, 0.3));\n",
              "      fill: #FFFFFF;\n",
              "    }\n",
              "  </style>\n",
              "\n",
              "    <script>\n",
              "      const buttonEl =\n",
              "        document.querySelector('#df-3e972d8d-3754-4ddb-ac31-e7f30f60a777 button.colab-df-convert');\n",
              "      buttonEl.style.display =\n",
              "        google.colab.kernel.accessAllowed ? 'block' : 'none';\n",
              "\n",
              "      async function convertToInteractive(key) {\n",
              "        const element = document.querySelector('#df-3e972d8d-3754-4ddb-ac31-e7f30f60a777');\n",
              "        const dataTable =\n",
              "          await google.colab.kernel.invokeFunction('convertToInteractive',\n",
              "                                                    [key], {});\n",
              "        if (!dataTable) return;\n",
              "\n",
              "        const docLinkHtml = 'Like what you see? Visit the ' +\n",
              "          '<a target=\"_blank\" href=https://colab.research.google.com/notebooks/data_table.ipynb>data table notebook</a>'\n",
              "          + ' to learn more about interactive tables.';\n",
              "        element.innerHTML = '';\n",
              "        dataTable['output_type'] = 'display_data';\n",
              "        await google.colab.output.renderOutput(dataTable, element);\n",
              "        const docLink = document.createElement('div');\n",
              "        docLink.innerHTML = docLinkHtml;\n",
              "        element.appendChild(docLink);\n",
              "      }\n",
              "    </script>\n",
              "  </div>\n",
              "\n",
              "\n",
              "<div id=\"df-79dbb225-ac56-4ff9-85fc-cba98c33e325\">\n",
              "  <button class=\"colab-df-quickchart\" onclick=\"quickchart('df-79dbb225-ac56-4ff9-85fc-cba98c33e325')\"\n",
              "            title=\"Suggest charts\"\n",
              "            style=\"display:none;\">\n",
              "\n",
              "<svg xmlns=\"http://www.w3.org/2000/svg\" height=\"24px\"viewBox=\"0 0 24 24\"\n",
              "     width=\"24px\">\n",
              "    <g>\n",
              "        <path d=\"M19 3H5c-1.1 0-2 .9-2 2v14c0 1.1.9 2 2 2h14c1.1 0 2-.9 2-2V5c0-1.1-.9-2-2-2zM9 17H7v-7h2v7zm4 0h-2V7h2v10zm4 0h-2v-4h2v4z\"/>\n",
              "    </g>\n",
              "</svg>\n",
              "  </button>\n",
              "\n",
              "<style>\n",
              "  .colab-df-quickchart {\n",
              "      --bg-color: #E8F0FE;\n",
              "      --fill-color: #1967D2;\n",
              "      --hover-bg-color: #E2EBFA;\n",
              "      --hover-fill-color: #174EA6;\n",
              "      --disabled-fill-color: #AAA;\n",
              "      --disabled-bg-color: #DDD;\n",
              "  }\n",
              "\n",
              "  [theme=dark] .colab-df-quickchart {\n",
              "      --bg-color: #3B4455;\n",
              "      --fill-color: #D2E3FC;\n",
              "      --hover-bg-color: #434B5C;\n",
              "      --hover-fill-color: #FFFFFF;\n",
              "      --disabled-bg-color: #3B4455;\n",
              "      --disabled-fill-color: #666;\n",
              "  }\n",
              "\n",
              "  .colab-df-quickchart {\n",
              "    background-color: var(--bg-color);\n",
              "    border: none;\n",
              "    border-radius: 50%;\n",
              "    cursor: pointer;\n",
              "    display: none;\n",
              "    fill: var(--fill-color);\n",
              "    height: 32px;\n",
              "    padding: 0;\n",
              "    width: 32px;\n",
              "  }\n",
              "\n",
              "  .colab-df-quickchart:hover {\n",
              "    background-color: var(--hover-bg-color);\n",
              "    box-shadow: 0 1px 2px rgba(60, 64, 67, 0.3), 0 1px 3px 1px rgba(60, 64, 67, 0.15);\n",
              "    fill: var(--button-hover-fill-color);\n",
              "  }\n",
              "\n",
              "  .colab-df-quickchart-complete:disabled,\n",
              "  .colab-df-quickchart-complete:disabled:hover {\n",
              "    background-color: var(--disabled-bg-color);\n",
              "    fill: var(--disabled-fill-color);\n",
              "    box-shadow: none;\n",
              "  }\n",
              "\n",
              "  .colab-df-spinner {\n",
              "    border: 2px solid var(--fill-color);\n",
              "    border-color: transparent;\n",
              "    border-bottom-color: var(--fill-color);\n",
              "    animation:\n",
              "      spin 1s steps(1) infinite;\n",
              "  }\n",
              "\n",
              "  @keyframes spin {\n",
              "    0% {\n",
              "      border-color: transparent;\n",
              "      border-bottom-color: var(--fill-color);\n",
              "      border-left-color: var(--fill-color);\n",
              "    }\n",
              "    20% {\n",
              "      border-color: transparent;\n",
              "      border-left-color: var(--fill-color);\n",
              "      border-top-color: var(--fill-color);\n",
              "    }\n",
              "    30% {\n",
              "      border-color: transparent;\n",
              "      border-left-color: var(--fill-color);\n",
              "      border-top-color: var(--fill-color);\n",
              "      border-right-color: var(--fill-color);\n",
              "    }\n",
              "    40% {\n",
              "      border-color: transparent;\n",
              "      border-right-color: var(--fill-color);\n",
              "      border-top-color: var(--fill-color);\n",
              "    }\n",
              "    60% {\n",
              "      border-color: transparent;\n",
              "      border-right-color: var(--fill-color);\n",
              "    }\n",
              "    80% {\n",
              "      border-color: transparent;\n",
              "      border-right-color: var(--fill-color);\n",
              "      border-bottom-color: var(--fill-color);\n",
              "    }\n",
              "    90% {\n",
              "      border-color: transparent;\n",
              "      border-bottom-color: var(--fill-color);\n",
              "    }\n",
              "  }\n",
              "</style>\n",
              "\n",
              "  <script>\n",
              "    async function quickchart(key) {\n",
              "      const quickchartButtonEl =\n",
              "        document.querySelector('#' + key + ' button');\n",
              "      quickchartButtonEl.disabled = true;  // To prevent multiple clicks.\n",
              "      quickchartButtonEl.classList.add('colab-df-spinner');\n",
              "      try {\n",
              "        const charts = await google.colab.kernel.invokeFunction(\n",
              "            'suggestCharts', [key], {});\n",
              "      } catch (error) {\n",
              "        console.error('Error during call to suggestCharts:', error);\n",
              "      }\n",
              "      quickchartButtonEl.classList.remove('colab-df-spinner');\n",
              "      quickchartButtonEl.classList.add('colab-df-quickchart-complete');\n",
              "    }\n",
              "    (() => {\n",
              "      let quickchartButtonEl =\n",
              "        document.querySelector('#df-79dbb225-ac56-4ff9-85fc-cba98c33e325 button');\n",
              "      quickchartButtonEl.style.display =\n",
              "        google.colab.kernel.accessAllowed ? 'block' : 'none';\n",
              "    })();\n",
              "  </script>\n",
              "</div>\n",
              "\n",
              "    </div>\n",
              "  </div>\n"
            ],
            "application/vnd.google.colaboratory.intrinsic+json": {
              "type": "dataframe",
              "variable_name": "data",
              "summary": "{\n  \"name\": \"data\",\n  \"rows\": 22750,\n  \"fields\": [\n    {\n      \"column\": \"Employee ID\",\n      \"properties\": {\n        \"dtype\": \"string\",\n        \"num_unique_values\": 22750,\n        \"samples\": [\n          \"fffe33003100310033003400\",\n          \"fffe370036003200\",\n          \"fffe3200340037003500\"\n        ],\n        \"semantic_type\": \"\",\n        \"description\": \"\"\n      }\n    },\n    {\n      \"column\": \"Date of Joining\",\n      \"properties\": {\n        \"dtype\": \"date\",\n        \"min\": \"2008-01-01 00:00:00\",\n        \"max\": \"2008-12-31 00:00:00\",\n        \"num_unique_values\": 366,\n        \"samples\": [\n          \"2008-07-06 00:00:00\",\n          \"2008-06-17 00:00:00\",\n          \"2008-02-03 00:00:00\"\n        ],\n        \"semantic_type\": \"\",\n        \"description\": \"\"\n      }\n    },\n    {\n      \"column\": \"Gender\",\n      \"properties\": {\n        \"dtype\": \"category\",\n        \"num_unique_values\": 2,\n        \"samples\": [\n          \"Male\",\n          \"Female\"\n        ],\n        \"semantic_type\": \"\",\n        \"description\": \"\"\n      }\n    },\n    {\n      \"column\": \"Company Type\",\n      \"properties\": {\n        \"dtype\": \"category\",\n        \"num_unique_values\": 2,\n        \"samples\": [\n          \"Product\",\n          \"Service\"\n        ],\n        \"semantic_type\": \"\",\n        \"description\": \"\"\n      }\n    },\n    {\n      \"column\": \"WFH Setup Available\",\n      \"properties\": {\n        \"dtype\": \"category\",\n        \"num_unique_values\": 2,\n        \"samples\": [\n          \"Yes\",\n          \"No\"\n        ],\n        \"semantic_type\": \"\",\n        \"description\": \"\"\n      }\n    },\n    {\n      \"column\": \"Designation\",\n      \"properties\": {\n        \"dtype\": \"number\",\n        \"std\": 1,\n        \"min\": 0,\n        \"max\": 5,\n        \"num_unique_values\": 6,\n        \"samples\": [\n          2,\n          1\n        ],\n        \"semantic_type\": \"\",\n        \"description\": \"\"\n      }\n    },\n    {\n      \"column\": \"Resource Allocation\",\n      \"properties\": {\n        \"dtype\": \"number\",\n        \"std\": 2.0472111205964953,\n        \"min\": 1.0,\n        \"max\": 10.0,\n        \"num_unique_values\": 10,\n        \"samples\": [\n          10.0,\n          2.0\n        ],\n        \"semantic_type\": \"\",\n        \"description\": \"\"\n      }\n    },\n    {\n      \"column\": \"Mental Fatigue Score\",\n      \"properties\": {\n        \"dtype\": \"number\",\n        \"std\": 1.9208386879728037,\n        \"min\": 0.0,\n        \"max\": 10.0,\n        \"num_unique_values\": 101,\n        \"samples\": [\n          1.7,\n          4.5\n        ],\n        \"semantic_type\": \"\",\n        \"description\": \"\"\n      }\n    },\n    {\n      \"column\": \"Burn Rate\",\n      \"properties\": {\n        \"dtype\": \"number\",\n        \"std\": 0.19822636950113903,\n        \"min\": 0.0,\n        \"max\": 1.0,\n        \"num_unique_values\": 101,\n        \"samples\": [\n          0.64,\n          0.0\n        ],\n        \"semantic_type\": \"\",\n        \"description\": \"\"\n      }\n    }\n  ]\n}"
            }
          },
          "metadata": {},
          "execution_count": 75
        }
      ]
    },
    {
      "cell_type": "code",
      "source": [
        "data.tail()"
      ],
      "metadata": {
        "execution": {
          "iopub.status.busy": "2024-07-23T14:13:52.050664Z",
          "iopub.execute_input": "2024-07-23T14:13:52.050989Z",
          "iopub.status.idle": "2024-07-23T14:13:52.071418Z",
          "shell.execute_reply.started": "2024-07-23T14:13:52.05096Z",
          "shell.execute_reply": "2024-07-23T14:13:52.069731Z"
        },
        "trusted": true,
        "id": "iRStOFlFaEIo",
        "outputId": "63de1d1b-1890-4286-9f4d-7a10cb14e83e",
        "colab": {
          "base_uri": "https://localhost:8080/",
          "height": 206
        }
      },
      "execution_count": 76,
      "outputs": [
        {
          "output_type": "execute_result",
          "data": {
            "text/plain": [
              "                    Employee ID Date of Joining  Gender Company Type  \\\n",
              "22745  fffe31003500370039003100      2008-12-30  Female      Service   \n",
              "22746  fffe33003000350031003800      2008-01-19  Female      Product   \n",
              "22747          fffe390032003000      2008-11-05    Male      Service   \n",
              "22748  fffe33003300320036003900      2008-01-10  Female      Service   \n",
              "22749      fffe3400350031003800      2008-01-06    Male      Product   \n",
              "\n",
              "      WFH Setup Available  Designation  Resource Allocation  \\\n",
              "22745                  No            1                  3.0   \n",
              "22746                 Yes            3                  6.0   \n",
              "22747                 Yes            3                  7.0   \n",
              "22748                  No            2                  5.0   \n",
              "22749                  No            3                  6.0   \n",
              "\n",
              "       Mental Fatigue Score  Burn Rate  \n",
              "22745                   NaN       0.41  \n",
              "22746                   6.7       0.59  \n",
              "22747                   NaN       0.72  \n",
              "22748                   5.9       0.52  \n",
              "22749                   7.8       0.61  "
            ],
            "text/html": [
              "\n",
              "  <div id=\"df-02517346-1566-47fa-9fd7-2a95695d784b\" class=\"colab-df-container\">\n",
              "    <div>\n",
              "<style scoped>\n",
              "    .dataframe tbody tr th:only-of-type {\n",
              "        vertical-align: middle;\n",
              "    }\n",
              "\n",
              "    .dataframe tbody tr th {\n",
              "        vertical-align: top;\n",
              "    }\n",
              "\n",
              "    .dataframe thead th {\n",
              "        text-align: right;\n",
              "    }\n",
              "</style>\n",
              "<table border=\"1\" class=\"dataframe\">\n",
              "  <thead>\n",
              "    <tr style=\"text-align: right;\">\n",
              "      <th></th>\n",
              "      <th>Employee ID</th>\n",
              "      <th>Date of Joining</th>\n",
              "      <th>Gender</th>\n",
              "      <th>Company Type</th>\n",
              "      <th>WFH Setup Available</th>\n",
              "      <th>Designation</th>\n",
              "      <th>Resource Allocation</th>\n",
              "      <th>Mental Fatigue Score</th>\n",
              "      <th>Burn Rate</th>\n",
              "    </tr>\n",
              "  </thead>\n",
              "  <tbody>\n",
              "    <tr>\n",
              "      <th>22745</th>\n",
              "      <td>fffe31003500370039003100</td>\n",
              "      <td>2008-12-30</td>\n",
              "      <td>Female</td>\n",
              "      <td>Service</td>\n",
              "      <td>No</td>\n",
              "      <td>1</td>\n",
              "      <td>3.0</td>\n",
              "      <td>NaN</td>\n",
              "      <td>0.41</td>\n",
              "    </tr>\n",
              "    <tr>\n",
              "      <th>22746</th>\n",
              "      <td>fffe33003000350031003800</td>\n",
              "      <td>2008-01-19</td>\n",
              "      <td>Female</td>\n",
              "      <td>Product</td>\n",
              "      <td>Yes</td>\n",
              "      <td>3</td>\n",
              "      <td>6.0</td>\n",
              "      <td>6.7</td>\n",
              "      <td>0.59</td>\n",
              "    </tr>\n",
              "    <tr>\n",
              "      <th>22747</th>\n",
              "      <td>fffe390032003000</td>\n",
              "      <td>2008-11-05</td>\n",
              "      <td>Male</td>\n",
              "      <td>Service</td>\n",
              "      <td>Yes</td>\n",
              "      <td>3</td>\n",
              "      <td>7.0</td>\n",
              "      <td>NaN</td>\n",
              "      <td>0.72</td>\n",
              "    </tr>\n",
              "    <tr>\n",
              "      <th>22748</th>\n",
              "      <td>fffe33003300320036003900</td>\n",
              "      <td>2008-01-10</td>\n",
              "      <td>Female</td>\n",
              "      <td>Service</td>\n",
              "      <td>No</td>\n",
              "      <td>2</td>\n",
              "      <td>5.0</td>\n",
              "      <td>5.9</td>\n",
              "      <td>0.52</td>\n",
              "    </tr>\n",
              "    <tr>\n",
              "      <th>22749</th>\n",
              "      <td>fffe3400350031003800</td>\n",
              "      <td>2008-01-06</td>\n",
              "      <td>Male</td>\n",
              "      <td>Product</td>\n",
              "      <td>No</td>\n",
              "      <td>3</td>\n",
              "      <td>6.0</td>\n",
              "      <td>7.8</td>\n",
              "      <td>0.61</td>\n",
              "    </tr>\n",
              "  </tbody>\n",
              "</table>\n",
              "</div>\n",
              "    <div class=\"colab-df-buttons\">\n",
              "\n",
              "  <div class=\"colab-df-container\">\n",
              "    <button class=\"colab-df-convert\" onclick=\"convertToInteractive('df-02517346-1566-47fa-9fd7-2a95695d784b')\"\n",
              "            title=\"Convert this dataframe to an interactive table.\"\n",
              "            style=\"display:none;\">\n",
              "\n",
              "  <svg xmlns=\"http://www.w3.org/2000/svg\" height=\"24px\" viewBox=\"0 -960 960 960\">\n",
              "    <path d=\"M120-120v-720h720v720H120Zm60-500h600v-160H180v160Zm220 220h160v-160H400v160Zm0 220h160v-160H400v160ZM180-400h160v-160H180v160Zm440 0h160v-160H620v160ZM180-180h160v-160H180v160Zm440 0h160v-160H620v160Z\"/>\n",
              "  </svg>\n",
              "    </button>\n",
              "\n",
              "  <style>\n",
              "    .colab-df-container {\n",
              "      display:flex;\n",
              "      gap: 12px;\n",
              "    }\n",
              "\n",
              "    .colab-df-convert {\n",
              "      background-color: #E8F0FE;\n",
              "      border: none;\n",
              "      border-radius: 50%;\n",
              "      cursor: pointer;\n",
              "      display: none;\n",
              "      fill: #1967D2;\n",
              "      height: 32px;\n",
              "      padding: 0 0 0 0;\n",
              "      width: 32px;\n",
              "    }\n",
              "\n",
              "    .colab-df-convert:hover {\n",
              "      background-color: #E2EBFA;\n",
              "      box-shadow: 0px 1px 2px rgba(60, 64, 67, 0.3), 0px 1px 3px 1px rgba(60, 64, 67, 0.15);\n",
              "      fill: #174EA6;\n",
              "    }\n",
              "\n",
              "    .colab-df-buttons div {\n",
              "      margin-bottom: 4px;\n",
              "    }\n",
              "\n",
              "    [theme=dark] .colab-df-convert {\n",
              "      background-color: #3B4455;\n",
              "      fill: #D2E3FC;\n",
              "    }\n",
              "\n",
              "    [theme=dark] .colab-df-convert:hover {\n",
              "      background-color: #434B5C;\n",
              "      box-shadow: 0px 1px 3px 1px rgba(0, 0, 0, 0.15);\n",
              "      filter: drop-shadow(0px 1px 2px rgba(0, 0, 0, 0.3));\n",
              "      fill: #FFFFFF;\n",
              "    }\n",
              "  </style>\n",
              "\n",
              "    <script>\n",
              "      const buttonEl =\n",
              "        document.querySelector('#df-02517346-1566-47fa-9fd7-2a95695d784b button.colab-df-convert');\n",
              "      buttonEl.style.display =\n",
              "        google.colab.kernel.accessAllowed ? 'block' : 'none';\n",
              "\n",
              "      async function convertToInteractive(key) {\n",
              "        const element = document.querySelector('#df-02517346-1566-47fa-9fd7-2a95695d784b');\n",
              "        const dataTable =\n",
              "          await google.colab.kernel.invokeFunction('convertToInteractive',\n",
              "                                                    [key], {});\n",
              "        if (!dataTable) return;\n",
              "\n",
              "        const docLinkHtml = 'Like what you see? Visit the ' +\n",
              "          '<a target=\"_blank\" href=https://colab.research.google.com/notebooks/data_table.ipynb>data table notebook</a>'\n",
              "          + ' to learn more about interactive tables.';\n",
              "        element.innerHTML = '';\n",
              "        dataTable['output_type'] = 'display_data';\n",
              "        await google.colab.output.renderOutput(dataTable, element);\n",
              "        const docLink = document.createElement('div');\n",
              "        docLink.innerHTML = docLinkHtml;\n",
              "        element.appendChild(docLink);\n",
              "      }\n",
              "    </script>\n",
              "  </div>\n",
              "\n",
              "\n",
              "<div id=\"df-0e69c265-36c1-4710-a9ea-abd8794d5c78\">\n",
              "  <button class=\"colab-df-quickchart\" onclick=\"quickchart('df-0e69c265-36c1-4710-a9ea-abd8794d5c78')\"\n",
              "            title=\"Suggest charts\"\n",
              "            style=\"display:none;\">\n",
              "\n",
              "<svg xmlns=\"http://www.w3.org/2000/svg\" height=\"24px\"viewBox=\"0 0 24 24\"\n",
              "     width=\"24px\">\n",
              "    <g>\n",
              "        <path d=\"M19 3H5c-1.1 0-2 .9-2 2v14c0 1.1.9 2 2 2h14c1.1 0 2-.9 2-2V5c0-1.1-.9-2-2-2zM9 17H7v-7h2v7zm4 0h-2V7h2v10zm4 0h-2v-4h2v4z\"/>\n",
              "    </g>\n",
              "</svg>\n",
              "  </button>\n",
              "\n",
              "<style>\n",
              "  .colab-df-quickchart {\n",
              "      --bg-color: #E8F0FE;\n",
              "      --fill-color: #1967D2;\n",
              "      --hover-bg-color: #E2EBFA;\n",
              "      --hover-fill-color: #174EA6;\n",
              "      --disabled-fill-color: #AAA;\n",
              "      --disabled-bg-color: #DDD;\n",
              "  }\n",
              "\n",
              "  [theme=dark] .colab-df-quickchart {\n",
              "      --bg-color: #3B4455;\n",
              "      --fill-color: #D2E3FC;\n",
              "      --hover-bg-color: #434B5C;\n",
              "      --hover-fill-color: #FFFFFF;\n",
              "      --disabled-bg-color: #3B4455;\n",
              "      --disabled-fill-color: #666;\n",
              "  }\n",
              "\n",
              "  .colab-df-quickchart {\n",
              "    background-color: var(--bg-color);\n",
              "    border: none;\n",
              "    border-radius: 50%;\n",
              "    cursor: pointer;\n",
              "    display: none;\n",
              "    fill: var(--fill-color);\n",
              "    height: 32px;\n",
              "    padding: 0;\n",
              "    width: 32px;\n",
              "  }\n",
              "\n",
              "  .colab-df-quickchart:hover {\n",
              "    background-color: var(--hover-bg-color);\n",
              "    box-shadow: 0 1px 2px rgba(60, 64, 67, 0.3), 0 1px 3px 1px rgba(60, 64, 67, 0.15);\n",
              "    fill: var(--button-hover-fill-color);\n",
              "  }\n",
              "\n",
              "  .colab-df-quickchart-complete:disabled,\n",
              "  .colab-df-quickchart-complete:disabled:hover {\n",
              "    background-color: var(--disabled-bg-color);\n",
              "    fill: var(--disabled-fill-color);\n",
              "    box-shadow: none;\n",
              "  }\n",
              "\n",
              "  .colab-df-spinner {\n",
              "    border: 2px solid var(--fill-color);\n",
              "    border-color: transparent;\n",
              "    border-bottom-color: var(--fill-color);\n",
              "    animation:\n",
              "      spin 1s steps(1) infinite;\n",
              "  }\n",
              "\n",
              "  @keyframes spin {\n",
              "    0% {\n",
              "      border-color: transparent;\n",
              "      border-bottom-color: var(--fill-color);\n",
              "      border-left-color: var(--fill-color);\n",
              "    }\n",
              "    20% {\n",
              "      border-color: transparent;\n",
              "      border-left-color: var(--fill-color);\n",
              "      border-top-color: var(--fill-color);\n",
              "    }\n",
              "    30% {\n",
              "      border-color: transparent;\n",
              "      border-left-color: var(--fill-color);\n",
              "      border-top-color: var(--fill-color);\n",
              "      border-right-color: var(--fill-color);\n",
              "    }\n",
              "    40% {\n",
              "      border-color: transparent;\n",
              "      border-right-color: var(--fill-color);\n",
              "      border-top-color: var(--fill-color);\n",
              "    }\n",
              "    60% {\n",
              "      border-color: transparent;\n",
              "      border-right-color: var(--fill-color);\n",
              "    }\n",
              "    80% {\n",
              "      border-color: transparent;\n",
              "      border-right-color: var(--fill-color);\n",
              "      border-bottom-color: var(--fill-color);\n",
              "    }\n",
              "    90% {\n",
              "      border-color: transparent;\n",
              "      border-bottom-color: var(--fill-color);\n",
              "    }\n",
              "  }\n",
              "</style>\n",
              "\n",
              "  <script>\n",
              "    async function quickchart(key) {\n",
              "      const quickchartButtonEl =\n",
              "        document.querySelector('#' + key + ' button');\n",
              "      quickchartButtonEl.disabled = true;  // To prevent multiple clicks.\n",
              "      quickchartButtonEl.classList.add('colab-df-spinner');\n",
              "      try {\n",
              "        const charts = await google.colab.kernel.invokeFunction(\n",
              "            'suggestCharts', [key], {});\n",
              "      } catch (error) {\n",
              "        console.error('Error during call to suggestCharts:', error);\n",
              "      }\n",
              "      quickchartButtonEl.classList.remove('colab-df-spinner');\n",
              "      quickchartButtonEl.classList.add('colab-df-quickchart-complete');\n",
              "    }\n",
              "    (() => {\n",
              "      let quickchartButtonEl =\n",
              "        document.querySelector('#df-0e69c265-36c1-4710-a9ea-abd8794d5c78 button');\n",
              "      quickchartButtonEl.style.display =\n",
              "        google.colab.kernel.accessAllowed ? 'block' : 'none';\n",
              "    })();\n",
              "  </script>\n",
              "</div>\n",
              "\n",
              "    </div>\n",
              "  </div>\n"
            ],
            "application/vnd.google.colaboratory.intrinsic+json": {
              "type": "dataframe",
              "summary": "{\n  \"name\": \"data\",\n  \"rows\": 5,\n  \"fields\": [\n    {\n      \"column\": \"Employee ID\",\n      \"properties\": {\n        \"dtype\": \"string\",\n        \"num_unique_values\": 5,\n        \"samples\": [\n          \"fffe33003000350031003800\",\n          \"fffe3400350031003800\",\n          \"fffe390032003000\"\n        ],\n        \"semantic_type\": \"\",\n        \"description\": \"\"\n      }\n    },\n    {\n      \"column\": \"Date of Joining\",\n      \"properties\": {\n        \"dtype\": \"date\",\n        \"min\": \"2008-01-06 00:00:00\",\n        \"max\": \"2008-12-30 00:00:00\",\n        \"num_unique_values\": 5,\n        \"samples\": [\n          \"2008-01-19 00:00:00\",\n          \"2008-01-06 00:00:00\",\n          \"2008-11-05 00:00:00\"\n        ],\n        \"semantic_type\": \"\",\n        \"description\": \"\"\n      }\n    },\n    {\n      \"column\": \"Gender\",\n      \"properties\": {\n        \"dtype\": \"category\",\n        \"num_unique_values\": 2,\n        \"samples\": [\n          \"Male\",\n          \"Female\"\n        ],\n        \"semantic_type\": \"\",\n        \"description\": \"\"\n      }\n    },\n    {\n      \"column\": \"Company Type\",\n      \"properties\": {\n        \"dtype\": \"category\",\n        \"num_unique_values\": 2,\n        \"samples\": [\n          \"Product\",\n          \"Service\"\n        ],\n        \"semantic_type\": \"\",\n        \"description\": \"\"\n      }\n    },\n    {\n      \"column\": \"WFH Setup Available\",\n      \"properties\": {\n        \"dtype\": \"category\",\n        \"num_unique_values\": 2,\n        \"samples\": [\n          \"Yes\",\n          \"No\"\n        ],\n        \"semantic_type\": \"\",\n        \"description\": \"\"\n      }\n    },\n    {\n      \"column\": \"Designation\",\n      \"properties\": {\n        \"dtype\": \"number\",\n        \"std\": 0,\n        \"min\": 1,\n        \"max\": 3,\n        \"num_unique_values\": 3,\n        \"samples\": [\n          1,\n          3\n        ],\n        \"semantic_type\": \"\",\n        \"description\": \"\"\n      }\n    },\n    {\n      \"column\": \"Resource Allocation\",\n      \"properties\": {\n        \"dtype\": \"number\",\n        \"std\": 1.51657508881031,\n        \"min\": 3.0,\n        \"max\": 7.0,\n        \"num_unique_values\": 4,\n        \"samples\": [\n          6.0,\n          5.0\n        ],\n        \"semantic_type\": \"\",\n        \"description\": \"\"\n      }\n    },\n    {\n      \"column\": \"Mental Fatigue Score\",\n      \"properties\": {\n        \"dtype\": \"number\",\n        \"std\": 0.9539392014169453,\n        \"min\": 5.9,\n        \"max\": 7.8,\n        \"num_unique_values\": 3,\n        \"samples\": [\n          6.7,\n          5.9\n        ],\n        \"semantic_type\": \"\",\n        \"description\": \"\"\n      }\n    },\n    {\n      \"column\": \"Burn Rate\",\n      \"properties\": {\n        \"dtype\": \"number\",\n        \"std\": 0.11467344941179715,\n        \"min\": 0.41,\n        \"max\": 0.72,\n        \"num_unique_values\": 5,\n        \"samples\": [\n          0.59,\n          0.61\n        ],\n        \"semantic_type\": \"\",\n        \"description\": \"\"\n      }\n    }\n  ]\n}"
            }
          },
          "metadata": {},
          "execution_count": 76
        }
      ]
    },
    {
      "cell_type": "markdown",
      "source": [
        "As the table shows, this dataframe contains 22750 columns where each one represents an observation of our true data. Also, as we can see in the column \"Mental Fatigue Score\" there are also NaN values. Let's count them."
      ],
      "metadata": {
        "id": "HihGOFyraEIp"
      }
    },
    {
      "cell_type": "code",
      "source": [
        "data.describe()"
      ],
      "metadata": {
        "execution": {
          "iopub.status.busy": "2024-07-23T14:13:52.072848Z",
          "iopub.execute_input": "2024-07-23T14:13:52.073242Z",
          "iopub.status.idle": "2024-07-23T14:13:52.109614Z",
          "shell.execute_reply.started": "2024-07-23T14:13:52.073202Z",
          "shell.execute_reply": "2024-07-23T14:13:52.108488Z"
        },
        "trusted": true,
        "id": "NVO8MrtXaEIp",
        "outputId": "58955818-5db5-4f99-d5f0-3b96b98b1820",
        "colab": {
          "base_uri": "https://localhost:8080/",
          "height": 300
        }
      },
      "execution_count": 77,
      "outputs": [
        {
          "output_type": "execute_result",
          "data": {
            "text/plain": [
              "                     Date of Joining   Designation  Resource Allocation  \\\n",
              "count                          22750  22750.000000         21369.000000   \n",
              "mean   2008-07-01 09:28:05.274725120      2.178725             4.481398   \n",
              "min              2008-01-01 00:00:00      0.000000             1.000000   \n",
              "25%              2008-04-01 00:00:00      1.000000             3.000000   \n",
              "50%              2008-07-02 00:00:00      2.000000             4.000000   \n",
              "75%              2008-09-30 00:00:00      3.000000             6.000000   \n",
              "max              2008-12-31 00:00:00      5.000000            10.000000   \n",
              "std                              NaN      1.135145             2.047211   \n",
              "\n",
              "       Mental Fatigue Score     Burn Rate  \n",
              "count          20633.000000  21626.000000  \n",
              "mean               5.728188      0.452005  \n",
              "min                0.000000      0.000000  \n",
              "25%                4.600000      0.310000  \n",
              "50%                5.900000      0.450000  \n",
              "75%                7.100000      0.590000  \n",
              "max               10.000000      1.000000  \n",
              "std                1.920839      0.198226  "
            ],
            "text/html": [
              "\n",
              "  <div id=\"df-a34aa6d7-dcb2-40ba-bfd2-b1c19e7429e6\" class=\"colab-df-container\">\n",
              "    <div>\n",
              "<style scoped>\n",
              "    .dataframe tbody tr th:only-of-type {\n",
              "        vertical-align: middle;\n",
              "    }\n",
              "\n",
              "    .dataframe tbody tr th {\n",
              "        vertical-align: top;\n",
              "    }\n",
              "\n",
              "    .dataframe thead th {\n",
              "        text-align: right;\n",
              "    }\n",
              "</style>\n",
              "<table border=\"1\" class=\"dataframe\">\n",
              "  <thead>\n",
              "    <tr style=\"text-align: right;\">\n",
              "      <th></th>\n",
              "      <th>Date of Joining</th>\n",
              "      <th>Designation</th>\n",
              "      <th>Resource Allocation</th>\n",
              "      <th>Mental Fatigue Score</th>\n",
              "      <th>Burn Rate</th>\n",
              "    </tr>\n",
              "  </thead>\n",
              "  <tbody>\n",
              "    <tr>\n",
              "      <th>count</th>\n",
              "      <td>22750</td>\n",
              "      <td>22750.000000</td>\n",
              "      <td>21369.000000</td>\n",
              "      <td>20633.000000</td>\n",
              "      <td>21626.000000</td>\n",
              "    </tr>\n",
              "    <tr>\n",
              "      <th>mean</th>\n",
              "      <td>2008-07-01 09:28:05.274725120</td>\n",
              "      <td>2.178725</td>\n",
              "      <td>4.481398</td>\n",
              "      <td>5.728188</td>\n",
              "      <td>0.452005</td>\n",
              "    </tr>\n",
              "    <tr>\n",
              "      <th>min</th>\n",
              "      <td>2008-01-01 00:00:00</td>\n",
              "      <td>0.000000</td>\n",
              "      <td>1.000000</td>\n",
              "      <td>0.000000</td>\n",
              "      <td>0.000000</td>\n",
              "    </tr>\n",
              "    <tr>\n",
              "      <th>25%</th>\n",
              "      <td>2008-04-01 00:00:00</td>\n",
              "      <td>1.000000</td>\n",
              "      <td>3.000000</td>\n",
              "      <td>4.600000</td>\n",
              "      <td>0.310000</td>\n",
              "    </tr>\n",
              "    <tr>\n",
              "      <th>50%</th>\n",
              "      <td>2008-07-02 00:00:00</td>\n",
              "      <td>2.000000</td>\n",
              "      <td>4.000000</td>\n",
              "      <td>5.900000</td>\n",
              "      <td>0.450000</td>\n",
              "    </tr>\n",
              "    <tr>\n",
              "      <th>75%</th>\n",
              "      <td>2008-09-30 00:00:00</td>\n",
              "      <td>3.000000</td>\n",
              "      <td>6.000000</td>\n",
              "      <td>7.100000</td>\n",
              "      <td>0.590000</td>\n",
              "    </tr>\n",
              "    <tr>\n",
              "      <th>max</th>\n",
              "      <td>2008-12-31 00:00:00</td>\n",
              "      <td>5.000000</td>\n",
              "      <td>10.000000</td>\n",
              "      <td>10.000000</td>\n",
              "      <td>1.000000</td>\n",
              "    </tr>\n",
              "    <tr>\n",
              "      <th>std</th>\n",
              "      <td>NaN</td>\n",
              "      <td>1.135145</td>\n",
              "      <td>2.047211</td>\n",
              "      <td>1.920839</td>\n",
              "      <td>0.198226</td>\n",
              "    </tr>\n",
              "  </tbody>\n",
              "</table>\n",
              "</div>\n",
              "    <div class=\"colab-df-buttons\">\n",
              "\n",
              "  <div class=\"colab-df-container\">\n",
              "    <button class=\"colab-df-convert\" onclick=\"convertToInteractive('df-a34aa6d7-dcb2-40ba-bfd2-b1c19e7429e6')\"\n",
              "            title=\"Convert this dataframe to an interactive table.\"\n",
              "            style=\"display:none;\">\n",
              "\n",
              "  <svg xmlns=\"http://www.w3.org/2000/svg\" height=\"24px\" viewBox=\"0 -960 960 960\">\n",
              "    <path d=\"M120-120v-720h720v720H120Zm60-500h600v-160H180v160Zm220 220h160v-160H400v160Zm0 220h160v-160H400v160ZM180-400h160v-160H180v160Zm440 0h160v-160H620v160ZM180-180h160v-160H180v160Zm440 0h160v-160H620v160Z\"/>\n",
              "  </svg>\n",
              "    </button>\n",
              "\n",
              "  <style>\n",
              "    .colab-df-container {\n",
              "      display:flex;\n",
              "      gap: 12px;\n",
              "    }\n",
              "\n",
              "    .colab-df-convert {\n",
              "      background-color: #E8F0FE;\n",
              "      border: none;\n",
              "      border-radius: 50%;\n",
              "      cursor: pointer;\n",
              "      display: none;\n",
              "      fill: #1967D2;\n",
              "      height: 32px;\n",
              "      padding: 0 0 0 0;\n",
              "      width: 32px;\n",
              "    }\n",
              "\n",
              "    .colab-df-convert:hover {\n",
              "      background-color: #E2EBFA;\n",
              "      box-shadow: 0px 1px 2px rgba(60, 64, 67, 0.3), 0px 1px 3px 1px rgba(60, 64, 67, 0.15);\n",
              "      fill: #174EA6;\n",
              "    }\n",
              "\n",
              "    .colab-df-buttons div {\n",
              "      margin-bottom: 4px;\n",
              "    }\n",
              "\n",
              "    [theme=dark] .colab-df-convert {\n",
              "      background-color: #3B4455;\n",
              "      fill: #D2E3FC;\n",
              "    }\n",
              "\n",
              "    [theme=dark] .colab-df-convert:hover {\n",
              "      background-color: #434B5C;\n",
              "      box-shadow: 0px 1px 3px 1px rgba(0, 0, 0, 0.15);\n",
              "      filter: drop-shadow(0px 1px 2px rgba(0, 0, 0, 0.3));\n",
              "      fill: #FFFFFF;\n",
              "    }\n",
              "  </style>\n",
              "\n",
              "    <script>\n",
              "      const buttonEl =\n",
              "        document.querySelector('#df-a34aa6d7-dcb2-40ba-bfd2-b1c19e7429e6 button.colab-df-convert');\n",
              "      buttonEl.style.display =\n",
              "        google.colab.kernel.accessAllowed ? 'block' : 'none';\n",
              "\n",
              "      async function convertToInteractive(key) {\n",
              "        const element = document.querySelector('#df-a34aa6d7-dcb2-40ba-bfd2-b1c19e7429e6');\n",
              "        const dataTable =\n",
              "          await google.colab.kernel.invokeFunction('convertToInteractive',\n",
              "                                                    [key], {});\n",
              "        if (!dataTable) return;\n",
              "\n",
              "        const docLinkHtml = 'Like what you see? Visit the ' +\n",
              "          '<a target=\"_blank\" href=https://colab.research.google.com/notebooks/data_table.ipynb>data table notebook</a>'\n",
              "          + ' to learn more about interactive tables.';\n",
              "        element.innerHTML = '';\n",
              "        dataTable['output_type'] = 'display_data';\n",
              "        await google.colab.output.renderOutput(dataTable, element);\n",
              "        const docLink = document.createElement('div');\n",
              "        docLink.innerHTML = docLinkHtml;\n",
              "        element.appendChild(docLink);\n",
              "      }\n",
              "    </script>\n",
              "  </div>\n",
              "\n",
              "\n",
              "<div id=\"df-7c096c85-cf91-4c14-9838-eb5fb978445d\">\n",
              "  <button class=\"colab-df-quickchart\" onclick=\"quickchart('df-7c096c85-cf91-4c14-9838-eb5fb978445d')\"\n",
              "            title=\"Suggest charts\"\n",
              "            style=\"display:none;\">\n",
              "\n",
              "<svg xmlns=\"http://www.w3.org/2000/svg\" height=\"24px\"viewBox=\"0 0 24 24\"\n",
              "     width=\"24px\">\n",
              "    <g>\n",
              "        <path d=\"M19 3H5c-1.1 0-2 .9-2 2v14c0 1.1.9 2 2 2h14c1.1 0 2-.9 2-2V5c0-1.1-.9-2-2-2zM9 17H7v-7h2v7zm4 0h-2V7h2v10zm4 0h-2v-4h2v4z\"/>\n",
              "    </g>\n",
              "</svg>\n",
              "  </button>\n",
              "\n",
              "<style>\n",
              "  .colab-df-quickchart {\n",
              "      --bg-color: #E8F0FE;\n",
              "      --fill-color: #1967D2;\n",
              "      --hover-bg-color: #E2EBFA;\n",
              "      --hover-fill-color: #174EA6;\n",
              "      --disabled-fill-color: #AAA;\n",
              "      --disabled-bg-color: #DDD;\n",
              "  }\n",
              "\n",
              "  [theme=dark] .colab-df-quickchart {\n",
              "      --bg-color: #3B4455;\n",
              "      --fill-color: #D2E3FC;\n",
              "      --hover-bg-color: #434B5C;\n",
              "      --hover-fill-color: #FFFFFF;\n",
              "      --disabled-bg-color: #3B4455;\n",
              "      --disabled-fill-color: #666;\n",
              "  }\n",
              "\n",
              "  .colab-df-quickchart {\n",
              "    background-color: var(--bg-color);\n",
              "    border: none;\n",
              "    border-radius: 50%;\n",
              "    cursor: pointer;\n",
              "    display: none;\n",
              "    fill: var(--fill-color);\n",
              "    height: 32px;\n",
              "    padding: 0;\n",
              "    width: 32px;\n",
              "  }\n",
              "\n",
              "  .colab-df-quickchart:hover {\n",
              "    background-color: var(--hover-bg-color);\n",
              "    box-shadow: 0 1px 2px rgba(60, 64, 67, 0.3), 0 1px 3px 1px rgba(60, 64, 67, 0.15);\n",
              "    fill: var(--button-hover-fill-color);\n",
              "  }\n",
              "\n",
              "  .colab-df-quickchart-complete:disabled,\n",
              "  .colab-df-quickchart-complete:disabled:hover {\n",
              "    background-color: var(--disabled-bg-color);\n",
              "    fill: var(--disabled-fill-color);\n",
              "    box-shadow: none;\n",
              "  }\n",
              "\n",
              "  .colab-df-spinner {\n",
              "    border: 2px solid var(--fill-color);\n",
              "    border-color: transparent;\n",
              "    border-bottom-color: var(--fill-color);\n",
              "    animation:\n",
              "      spin 1s steps(1) infinite;\n",
              "  }\n",
              "\n",
              "  @keyframes spin {\n",
              "    0% {\n",
              "      border-color: transparent;\n",
              "      border-bottom-color: var(--fill-color);\n",
              "      border-left-color: var(--fill-color);\n",
              "    }\n",
              "    20% {\n",
              "      border-color: transparent;\n",
              "      border-left-color: var(--fill-color);\n",
              "      border-top-color: var(--fill-color);\n",
              "    }\n",
              "    30% {\n",
              "      border-color: transparent;\n",
              "      border-left-color: var(--fill-color);\n",
              "      border-top-color: var(--fill-color);\n",
              "      border-right-color: var(--fill-color);\n",
              "    }\n",
              "    40% {\n",
              "      border-color: transparent;\n",
              "      border-right-color: var(--fill-color);\n",
              "      border-top-color: var(--fill-color);\n",
              "    }\n",
              "    60% {\n",
              "      border-color: transparent;\n",
              "      border-right-color: var(--fill-color);\n",
              "    }\n",
              "    80% {\n",
              "      border-color: transparent;\n",
              "      border-right-color: var(--fill-color);\n",
              "      border-bottom-color: var(--fill-color);\n",
              "    }\n",
              "    90% {\n",
              "      border-color: transparent;\n",
              "      border-bottom-color: var(--fill-color);\n",
              "    }\n",
              "  }\n",
              "</style>\n",
              "\n",
              "  <script>\n",
              "    async function quickchart(key) {\n",
              "      const quickchartButtonEl =\n",
              "        document.querySelector('#' + key + ' button');\n",
              "      quickchartButtonEl.disabled = true;  // To prevent multiple clicks.\n",
              "      quickchartButtonEl.classList.add('colab-df-spinner');\n",
              "      try {\n",
              "        const charts = await google.colab.kernel.invokeFunction(\n",
              "            'suggestCharts', [key], {});\n",
              "      } catch (error) {\n",
              "        console.error('Error during call to suggestCharts:', error);\n",
              "      }\n",
              "      quickchartButtonEl.classList.remove('colab-df-spinner');\n",
              "      quickchartButtonEl.classList.add('colab-df-quickchart-complete');\n",
              "    }\n",
              "    (() => {\n",
              "      let quickchartButtonEl =\n",
              "        document.querySelector('#df-7c096c85-cf91-4c14-9838-eb5fb978445d button');\n",
              "      quickchartButtonEl.style.display =\n",
              "        google.colab.kernel.accessAllowed ? 'block' : 'none';\n",
              "    })();\n",
              "  </script>\n",
              "</div>\n",
              "\n",
              "    </div>\n",
              "  </div>\n"
            ],
            "application/vnd.google.colaboratory.intrinsic+json": {
              "type": "dataframe",
              "summary": "{\n  \"name\": \"data\",\n  \"rows\": 8,\n  \"fields\": [\n    {\n      \"column\": \"Date of Joining\",\n      \"properties\": {\n        \"dtype\": \"date\",\n        \"min\": \"1970-01-01 00:00:00.000022750\",\n        \"max\": \"2008-12-31 00:00:00\",\n        \"num_unique_values\": 7,\n        \"samples\": [\n          \"22750\",\n          \"2008-07-01 09:28:05.274725120\",\n          \"2008-09-30 00:00:00\"\n        ],\n        \"semantic_type\": \"\",\n        \"description\": \"\"\n      }\n    },\n    {\n      \"column\": \"Designation\",\n      \"properties\": {\n        \"dtype\": \"number\",\n        \"std\": 8042.616816408974,\n        \"min\": 0.0,\n        \"max\": 22750.0,\n        \"num_unique_values\": 8,\n        \"samples\": [\n          2.1787252747252746,\n          3.0,\n          22750.0\n        ],\n        \"semantic_type\": \"\",\n        \"description\": \"\"\n      }\n    },\n    {\n      \"column\": \"Resource Allocation\",\n      \"properties\": {\n        \"dtype\": \"number\",\n        \"std\": 7553.5409783935675,\n        \"min\": 1.0,\n        \"max\": 21369.0,\n        \"num_unique_values\": 8,\n        \"samples\": [\n          4.481398287238523,\n          6.0,\n          21369.0\n        ],\n        \"semantic_type\": \"\",\n        \"description\": \"\"\n      }\n    },\n    {\n      \"column\": \"Mental Fatigue Score\",\n      \"properties\": {\n        \"dtype\": \"number\",\n        \"std\": 7293.087403776471,\n        \"min\": 0.0,\n        \"max\": 20633.0,\n        \"num_unique_values\": 8,\n        \"samples\": [\n          5.728187854407987,\n          7.1,\n          20633.0\n        ],\n        \"semantic_type\": \"\",\n        \"description\": \"\"\n      }\n    },\n    {\n      \"column\": \"Burn Rate\",\n      \"properties\": {\n        \"dtype\": \"number\",\n        \"std\": 7645.794096025811,\n        \"min\": 0.0,\n        \"max\": 21626.0,\n        \"num_unique_values\": 8,\n        \"samples\": [\n          0.45200545639508,\n          0.59,\n          21626.0\n        ],\n        \"semantic_type\": \"\",\n        \"description\": \"\"\n      }\n    }\n  ]\n}"
            }
          },
          "metadata": {},
          "execution_count": 77
        }
      ]
    },
    {
      "cell_type": "code",
      "source": [
        "data.columns.tolist()"
      ],
      "metadata": {
        "execution": {
          "iopub.status.busy": "2024-07-23T14:13:52.111028Z",
          "iopub.execute_input": "2024-07-23T14:13:52.111456Z",
          "iopub.status.idle": "2024-07-23T14:13:52.118436Z",
          "shell.execute_reply.started": "2024-07-23T14:13:52.111419Z",
          "shell.execute_reply": "2024-07-23T14:13:52.117331Z"
        },
        "trusted": true,
        "id": "iT46Wf6laEIp",
        "outputId": "cd7e309f-1eed-4bea-9670-9a96f07153ae",
        "colab": {
          "base_uri": "https://localhost:8080/"
        }
      },
      "execution_count": 78,
      "outputs": [
        {
          "output_type": "execute_result",
          "data": {
            "text/plain": [
              "['Employee ID',\n",
              " 'Date of Joining',\n",
              " 'Gender',\n",
              " 'Company Type',\n",
              " 'WFH Setup Available',\n",
              " 'Designation',\n",
              " 'Resource Allocation',\n",
              " 'Mental Fatigue Score',\n",
              " 'Burn Rate']"
            ]
          },
          "metadata": {},
          "execution_count": 78
        }
      ]
    },
    {
      "cell_type": "code",
      "source": [
        "data.nunique()"
      ],
      "metadata": {
        "execution": {
          "iopub.status.busy": "2024-07-23T14:13:52.119804Z",
          "iopub.execute_input": "2024-07-23T14:13:52.120217Z",
          "iopub.status.idle": "2024-07-23T14:13:52.145434Z",
          "shell.execute_reply.started": "2024-07-23T14:13:52.120178Z",
          "shell.execute_reply": "2024-07-23T14:13:52.144373Z"
        },
        "trusted": true,
        "id": "RKkt3JqCaEIq",
        "outputId": "560c84d5-25a5-4837-d229-ab9741234db2",
        "colab": {
          "base_uri": "https://localhost:8080/",
          "height": 366
        }
      },
      "execution_count": 79,
      "outputs": [
        {
          "output_type": "execute_result",
          "data": {
            "text/plain": [
              "Employee ID             22750\n",
              "Date of Joining           366\n",
              "Gender                      2\n",
              "Company Type                2\n",
              "WFH Setup Available         2\n",
              "Designation                 6\n",
              "Resource Allocation        10\n",
              "Mental Fatigue Score      101\n",
              "Burn Rate                 101\n",
              "dtype: int64"
            ],
            "text/html": [
              "<div>\n",
              "<style scoped>\n",
              "    .dataframe tbody tr th:only-of-type {\n",
              "        vertical-align: middle;\n",
              "    }\n",
              "\n",
              "    .dataframe tbody tr th {\n",
              "        vertical-align: top;\n",
              "    }\n",
              "\n",
              "    .dataframe thead th {\n",
              "        text-align: right;\n",
              "    }\n",
              "</style>\n",
              "<table border=\"1\" class=\"dataframe\">\n",
              "  <thead>\n",
              "    <tr style=\"text-align: right;\">\n",
              "      <th></th>\n",
              "      <th>0</th>\n",
              "    </tr>\n",
              "  </thead>\n",
              "  <tbody>\n",
              "    <tr>\n",
              "      <th>Employee ID</th>\n",
              "      <td>22750</td>\n",
              "    </tr>\n",
              "    <tr>\n",
              "      <th>Date of Joining</th>\n",
              "      <td>366</td>\n",
              "    </tr>\n",
              "    <tr>\n",
              "      <th>Gender</th>\n",
              "      <td>2</td>\n",
              "    </tr>\n",
              "    <tr>\n",
              "      <th>Company Type</th>\n",
              "      <td>2</td>\n",
              "    </tr>\n",
              "    <tr>\n",
              "      <th>WFH Setup Available</th>\n",
              "      <td>2</td>\n",
              "    </tr>\n",
              "    <tr>\n",
              "      <th>Designation</th>\n",
              "      <td>6</td>\n",
              "    </tr>\n",
              "    <tr>\n",
              "      <th>Resource Allocation</th>\n",
              "      <td>10</td>\n",
              "    </tr>\n",
              "    <tr>\n",
              "      <th>Mental Fatigue Score</th>\n",
              "      <td>101</td>\n",
              "    </tr>\n",
              "    <tr>\n",
              "      <th>Burn Rate</th>\n",
              "      <td>101</td>\n",
              "    </tr>\n",
              "  </tbody>\n",
              "</table>\n",
              "</div><br><label><b>dtype:</b> int64</label>"
            ]
          },
          "metadata": {},
          "execution_count": 79
        }
      ]
    },
    {
      "cell_type": "code",
      "source": [
        "data.info()#summary of dataset"
      ],
      "metadata": {
        "execution": {
          "iopub.status.busy": "2024-07-23T14:13:52.146546Z",
          "iopub.execute_input": "2024-07-23T14:13:52.146855Z",
          "iopub.status.idle": "2024-07-23T14:13:52.163327Z",
          "shell.execute_reply.started": "2024-07-23T14:13:52.146829Z",
          "shell.execute_reply": "2024-07-23T14:13:52.162245Z"
        },
        "trusted": true,
        "id": "rHqLIcYUaEIq",
        "outputId": "206080b0-6e4d-466c-ca9a-ff0ac78ff1d5",
        "colab": {
          "base_uri": "https://localhost:8080/"
        }
      },
      "execution_count": 80,
      "outputs": [
        {
          "output_type": "stream",
          "name": "stdout",
          "text": [
            "<class 'pandas.core.frame.DataFrame'>\n",
            "RangeIndex: 22750 entries, 0 to 22749\n",
            "Data columns (total 9 columns):\n",
            " #   Column                Non-Null Count  Dtype         \n",
            "---  ------                --------------  -----         \n",
            " 0   Employee ID           22750 non-null  object        \n",
            " 1   Date of Joining       22750 non-null  datetime64[ns]\n",
            " 2   Gender                22750 non-null  object        \n",
            " 3   Company Type          22750 non-null  object        \n",
            " 4   WFH Setup Available   22750 non-null  object        \n",
            " 5   Designation           22750 non-null  int64         \n",
            " 6   Resource Allocation   21369 non-null  float64       \n",
            " 7   Mental Fatigue Score  20633 non-null  float64       \n",
            " 8   Burn Rate             21626 non-null  float64       \n",
            "dtypes: datetime64[ns](1), float64(3), int64(1), object(4)\n",
            "memory usage: 1.6+ MB\n"
          ]
        }
      ]
    },
    {
      "cell_type": "code",
      "source": [
        "data.isnull().sum()#count of N.o of missing values of each columns"
      ],
      "metadata": {
        "execution": {
          "iopub.status.busy": "2024-07-23T14:13:52.164817Z",
          "iopub.execute_input": "2024-07-23T14:13:52.165203Z",
          "iopub.status.idle": "2024-07-23T14:13:52.180733Z",
          "shell.execute_reply.started": "2024-07-23T14:13:52.165174Z",
          "shell.execute_reply": "2024-07-23T14:13:52.179723Z"
        },
        "trusted": true,
        "id": "16ao0yyCaEIq",
        "outputId": "35028cb4-d5ad-4e3d-b793-183d335ccbbe",
        "colab": {
          "base_uri": "https://localhost:8080/",
          "height": 366
        }
      },
      "execution_count": 81,
      "outputs": [
        {
          "output_type": "execute_result",
          "data": {
            "text/plain": [
              "Employee ID                0\n",
              "Date of Joining            0\n",
              "Gender                     0\n",
              "Company Type               0\n",
              "WFH Setup Available        0\n",
              "Designation                0\n",
              "Resource Allocation     1381\n",
              "Mental Fatigue Score    2117\n",
              "Burn Rate               1124\n",
              "dtype: int64"
            ],
            "text/html": [
              "<div>\n",
              "<style scoped>\n",
              "    .dataframe tbody tr th:only-of-type {\n",
              "        vertical-align: middle;\n",
              "    }\n",
              "\n",
              "    .dataframe tbody tr th {\n",
              "        vertical-align: top;\n",
              "    }\n",
              "\n",
              "    .dataframe thead th {\n",
              "        text-align: right;\n",
              "    }\n",
              "</style>\n",
              "<table border=\"1\" class=\"dataframe\">\n",
              "  <thead>\n",
              "    <tr style=\"text-align: right;\">\n",
              "      <th></th>\n",
              "      <th>0</th>\n",
              "    </tr>\n",
              "  </thead>\n",
              "  <tbody>\n",
              "    <tr>\n",
              "      <th>Employee ID</th>\n",
              "      <td>0</td>\n",
              "    </tr>\n",
              "    <tr>\n",
              "      <th>Date of Joining</th>\n",
              "      <td>0</td>\n",
              "    </tr>\n",
              "    <tr>\n",
              "      <th>Gender</th>\n",
              "      <td>0</td>\n",
              "    </tr>\n",
              "    <tr>\n",
              "      <th>Company Type</th>\n",
              "      <td>0</td>\n",
              "    </tr>\n",
              "    <tr>\n",
              "      <th>WFH Setup Available</th>\n",
              "      <td>0</td>\n",
              "    </tr>\n",
              "    <tr>\n",
              "      <th>Designation</th>\n",
              "      <td>0</td>\n",
              "    </tr>\n",
              "    <tr>\n",
              "      <th>Resource Allocation</th>\n",
              "      <td>1381</td>\n",
              "    </tr>\n",
              "    <tr>\n",
              "      <th>Mental Fatigue Score</th>\n",
              "      <td>2117</td>\n",
              "    </tr>\n",
              "    <tr>\n",
              "      <th>Burn Rate</th>\n",
              "      <td>1124</td>\n",
              "    </tr>\n",
              "  </tbody>\n",
              "</table>\n",
              "</div><br><label><b>dtype:</b> int64</label>"
            ]
          },
          "metadata": {},
          "execution_count": 81
        }
      ]
    },
    {
      "cell_type": "code",
      "source": [
        "data.isnull().sum().values.sum()#find total n.o of missing values in dataset"
      ],
      "metadata": {
        "execution": {
          "iopub.status.busy": "2024-07-23T14:13:52.184718Z",
          "iopub.execute_input": "2024-07-23T14:13:52.185124Z",
          "iopub.status.idle": "2024-07-23T14:13:52.197883Z",
          "shell.execute_reply.started": "2024-07-23T14:13:52.185079Z",
          "shell.execute_reply": "2024-07-23T14:13:52.196917Z"
        },
        "trusted": true,
        "id": "8jBVe0PRaEIq",
        "outputId": "8880cad3-3ef0-4fb6-e6bd-5ac213d1ef69",
        "colab": {
          "base_uri": "https://localhost:8080/"
        }
      },
      "execution_count": 82,
      "outputs": [
        {
          "output_type": "execute_result",
          "data": {
            "text/plain": [
              "4622"
            ]
          },
          "metadata": {},
          "execution_count": 82
        }
      ]
    },
    {
      "cell_type": "markdown",
      "source": [
        "# Exploratory Data Analysis"
      ],
      "metadata": {
        "id": "DegdJSu4aEIr"
      }
    },
    {
      "cell_type": "markdown",
      "source": [
        "There are NaN values on our target (\"Burn Rate\") and also in Resource Allocation and Mental Fatigue Score columns. As we are going to perform supervised linear regression, our target variable is needed to do so. Therefore, this 1124 rows with NaN values must be dropped off of our dataframe."
      ],
      "metadata": {
        "id": "2vs2Evu0aEIr"
      }
    },
    {
      "cell_type": "code",
      "source": [
        "data.corr(numeric_only=True)['Burn Rate'][:-1]"
      ],
      "metadata": {
        "execution": {
          "iopub.status.busy": "2024-07-23T14:13:52.199063Z",
          "iopub.execute_input": "2024-07-23T14:13:52.199389Z",
          "iopub.status.idle": "2024-07-23T14:13:52.212266Z",
          "shell.execute_reply.started": "2024-07-23T14:13:52.199362Z",
          "shell.execute_reply": "2024-07-23T14:13:52.211179Z"
        },
        "trusted": true,
        "id": "pqvaq8oSaEIr",
        "outputId": "9fc48be0-87a7-4064-aa3f-5a06003cecd7",
        "colab": {
          "base_uri": "https://localhost:8080/",
          "height": 178
        }
      },
      "execution_count": 83,
      "outputs": [
        {
          "output_type": "execute_result",
          "data": {
            "text/plain": [
              "Designation             0.737556\n",
              "Resource Allocation     0.856278\n",
              "Mental Fatigue Score    0.944546\n",
              "Name: Burn Rate, dtype: float64"
            ],
            "text/html": [
              "<div>\n",
              "<style scoped>\n",
              "    .dataframe tbody tr th:only-of-type {\n",
              "        vertical-align: middle;\n",
              "    }\n",
              "\n",
              "    .dataframe tbody tr th {\n",
              "        vertical-align: top;\n",
              "    }\n",
              "\n",
              "    .dataframe thead th {\n",
              "        text-align: right;\n",
              "    }\n",
              "</style>\n",
              "<table border=\"1\" class=\"dataframe\">\n",
              "  <thead>\n",
              "    <tr style=\"text-align: right;\">\n",
              "      <th></th>\n",
              "      <th>Burn Rate</th>\n",
              "    </tr>\n",
              "  </thead>\n",
              "  <tbody>\n",
              "    <tr>\n",
              "      <th>Designation</th>\n",
              "      <td>0.737556</td>\n",
              "    </tr>\n",
              "    <tr>\n",
              "      <th>Resource Allocation</th>\n",
              "      <td>0.856278</td>\n",
              "    </tr>\n",
              "    <tr>\n",
              "      <th>Mental Fatigue Score</th>\n",
              "      <td>0.944546</td>\n",
              "    </tr>\n",
              "  </tbody>\n",
              "</table>\n",
              "</div><br><label><b>dtype:</b> float64</label>"
            ]
          },
          "metadata": {},
          "execution_count": 83
        }
      ]
    },
    {
      "cell_type": "code",
      "source": [
        "# Calculate the correlation matrix with numeric_only=True\n",
        "correlation_matrix = data.corr(numeric_only=True)\n",
        "\n",
        "# Create the heatmap\n",
        "plt.figure(figsize=(16, 6))\n",
        "heatmap = sns.heatmap(correlation_matrix, vmin=-1, vmax=1, annot=True, cmap='coolwarm')\n",
        "heatmap.set_title('Correlation Heatmap', fontdict={'fontsize':12}, pad=12)\n",
        "\n",
        "# Save and show the heatmap\n",
        "plt.savefig(\"correlation_heatmap.png\")\n",
        "plt.show()"
      ],
      "metadata": {
        "id": "DDl5kYeAKizo",
        "outputId": "2e49696d-14f3-4117-a243-5c58ed68764f",
        "colab": {
          "base_uri": "https://localhost:8080/",
          "height": 553
        }
      },
      "execution_count": 84,
      "outputs": [
        {
          "output_type": "display_data",
          "data": {
            "text/plain": [
              "<Figure size 1600x600 with 2 Axes>"
            ],
            "image/png": "[encoded data removed]"
          },
          "metadata": {}
        }
      ]
    },
    {
      "cell_type": "markdown",
      "source": [
        "These two variables are strongly correlated with target variable, therefore , important to estimate it.\n"
      ],
      "metadata": {
        "id": "w0MI9fqiaEIr"
      }
    },
    {
      "cell_type": "code",
      "source": [
        "sns.pairplot(data)\n",
        "plt.show()"
      ],
      "metadata": {
        "execution": {
          "iopub.status.busy": "2024-07-23T14:13:52.213639Z",
          "iopub.execute_input": "2024-07-23T14:13:52.213951Z",
          "iopub.status.idle": "2024-07-23T14:13:57.463286Z",
          "shell.execute_reply.started": "2024-07-23T14:13:52.213923Z",
          "shell.execute_reply": "2024-07-23T14:13:57.462191Z"
        },
        "trusted": true,
        "id": "epP5EMxQaEIr",
        "outputId": "79b8754c-6bc0-4de9-8675-786992b81454",
        "colab": {
          "base_uri": "https://localhost:8080/",
          "height": 1000
        }
      },
      "execution_count": 85,
      "outputs": [
        {
          "output_type": "display_data",
          "data": {
            "text/plain": [
              "<Figure size 1000x1000 with 20 Axes>"
            ],
            "image/png": "[encoded data removed]"
          },
          "metadata": {}
        }
      ]
    },
    {
      "cell_type": "markdown",
      "source": [
        "Drop off all observations with NaN values of our dataframe."
      ],
      "metadata": {
        "id": "_PFUw6HsaEIs"
      }
    },
    {
      "cell_type": "code",
      "source": [
        "data = data.dropna()"
      ],
      "metadata": {
        "execution": {
          "iopub.status.busy": "2024-07-23T14:13:57.464749Z",
          "iopub.execute_input": "2024-07-23T14:13:57.465179Z",
          "iopub.status.idle": "2024-07-23T14:13:57.48075Z",
          "shell.execute_reply.started": "2024-07-23T14:13:57.465139Z",
          "shell.execute_reply": "2024-07-23T14:13:57.479763Z"
        },
        "trusted": true,
        "id": "q9DK4RQraEIs"
      },
      "execution_count": 86,
      "outputs": []
    },
    {
      "cell_type": "code",
      "source": [
        "data.shape"
      ],
      "metadata": {
        "execution": {
          "iopub.status.busy": "2024-07-23T14:13:57.482189Z",
          "iopub.execute_input": "2024-07-23T14:13:57.482611Z",
          "iopub.status.idle": "2024-07-23T14:13:57.49038Z",
          "shell.execute_reply.started": "2024-07-23T14:13:57.482571Z",
          "shell.execute_reply": "2024-07-23T14:13:57.489233Z"
        },
        "trusted": true,
        "id": "2DoITbFYaEIs",
        "outputId": "9f6ec8e6-8bbb-422f-ac37-ed0f26d15b15",
        "colab": {
          "base_uri": "https://localhost:8080/"
        }
      },
      "execution_count": 87,
      "outputs": [
        {
          "output_type": "execute_result",
          "data": {
            "text/plain": [
              "(18590, 9)"
            ]
          },
          "metadata": {},
          "execution_count": 87
        }
      ]
    },
    {
      "cell_type": "markdown",
      "source": [
        "Analyzing what type of data is each variable."
      ],
      "metadata": {
        "id": "llapRi9jaEIs"
      }
    },
    {
      "cell_type": "code",
      "source": [
        "data.dtypes"
      ],
      "metadata": {
        "execution": {
          "iopub.status.busy": "2024-07-23T14:13:57.491565Z",
          "iopub.execute_input": "2024-07-23T14:13:57.491896Z",
          "iopub.status.idle": "2024-07-23T14:13:57.502739Z",
          "shell.execute_reply.started": "2024-07-23T14:13:57.491868Z",
          "shell.execute_reply": "2024-07-23T14:13:57.501668Z"
        },
        "trusted": true,
        "id": "epfCt1WwaEIs",
        "outputId": "f85b90b9-568e-46f4-d63e-5158061328c5",
        "colab": {
          "base_uri": "https://localhost:8080/",
          "height": 366
        }
      },
      "execution_count": 88,
      "outputs": [
        {
          "output_type": "execute_result",
          "data": {
            "text/plain": [
              "Employee ID                     object\n",
              "Date of Joining         datetime64[ns]\n",
              "Gender                          object\n",
              "Company Type                    object\n",
              "WFH Setup Available             object\n",
              "Designation                      int64\n",
              "Resource Allocation            float64\n",
              "Mental Fatigue Score           float64\n",
              "Burn Rate                      float64\n",
              "dtype: object"
            ],
            "text/html": [
              "<div>\n",
              "<style scoped>\n",
              "    .dataframe tbody tr th:only-of-type {\n",
              "        vertical-align: middle;\n",
              "    }\n",
              "\n",
              "    .dataframe tbody tr th {\n",
              "        vertical-align: top;\n",
              "    }\n",
              "\n",
              "    .dataframe thead th {\n",
              "        text-align: right;\n",
              "    }\n",
              "</style>\n",
              "<table border=\"1\" class=\"dataframe\">\n",
              "  <thead>\n",
              "    <tr style=\"text-align: right;\">\n",
              "      <th></th>\n",
              "      <th>0</th>\n",
              "    </tr>\n",
              "  </thead>\n",
              "  <tbody>\n",
              "    <tr>\n",
              "      <th>Employee ID</th>\n",
              "      <td>object</td>\n",
              "    </tr>\n",
              "    <tr>\n",
              "      <th>Date of Joining</th>\n",
              "      <td>datetime64[ns]</td>\n",
              "    </tr>\n",
              "    <tr>\n",
              "      <th>Gender</th>\n",
              "      <td>object</td>\n",
              "    </tr>\n",
              "    <tr>\n",
              "      <th>Company Type</th>\n",
              "      <td>object</td>\n",
              "    </tr>\n",
              "    <tr>\n",
              "      <th>WFH Setup Available</th>\n",
              "      <td>object</td>\n",
              "    </tr>\n",
              "    <tr>\n",
              "      <th>Designation</th>\n",
              "      <td>int64</td>\n",
              "    </tr>\n",
              "    <tr>\n",
              "      <th>Resource Allocation</th>\n",
              "      <td>float64</td>\n",
              "    </tr>\n",
              "    <tr>\n",
              "      <th>Mental Fatigue Score</th>\n",
              "      <td>float64</td>\n",
              "    </tr>\n",
              "    <tr>\n",
              "      <th>Burn Rate</th>\n",
              "      <td>float64</td>\n",
              "    </tr>\n",
              "  </tbody>\n",
              "</table>\n",
              "</div><br><label><b>dtype:</b> object</label>"
            ]
          },
          "metadata": {},
          "execution_count": 88
        }
      ]
    },
    {
      "cell_type": "markdown",
      "source": [
        "The values that each variable contains."
      ],
      "metadata": {
        "id": "01IhHoCfaEIs"
      }
    },
    {
      "cell_type": "markdown",
      "source": [
        "The employees ID doesn't provide any useful information and, therefore, they must be dropped."
      ],
      "metadata": {
        "id": "Ry3SsqENaEIt"
      }
    },
    {
      "cell_type": "code",
      "source": [
        "data = data.drop('Employee ID', axis = 1)"
      ],
      "metadata": {
        "execution": {
          "iopub.status.busy": "2024-07-23T14:13:57.504196Z",
          "iopub.execute_input": "2024-07-23T14:13:57.504618Z",
          "iopub.status.idle": "2024-07-23T14:13:57.513197Z",
          "shell.execute_reply.started": "2024-07-23T14:13:57.504582Z",
          "shell.execute_reply": "2024-07-23T14:13:57.512319Z"
        },
        "trusted": true,
        "id": "YR2LuepKaEIt"
      },
      "execution_count": 89,
      "outputs": []
    },
    {
      "cell_type": "markdown",
      "source": [
        "Unsupported Cell Type. Double-Click to inspect/edit the content."
      ],
      "metadata": {
        "id": "moQV2XL-aEIt"
      }
    },
    {
      "cell_type": "markdown",
      "source": [
        "Checking the correlation of Date of Joining with Target variable"
      ],
      "metadata": {
        "id": "iy7jOIDXaEIu"
      }
    },
    {
      "cell_type": "code",
      "source": [
        "print(f\"Min date {data['Date of Joining'].min()}\")\n",
        "print(f\"Max date {data['Date of Joining'].max()}\")\n",
        "data_month = data.copy()\n",
        "# Convert the 'Date of Joining' column to datetime format with nanosecond precision\n",
        "data_month[\"Date of Joining\"] = data_month['Date of Joining'].astype(\"datetime64[ns]\")\n",
        "# Extract the month from 'Date of Joining' and group by month\n",
        "# Count the number of employees hired each month and plot the result as a bar chart\n",
        "data_month[\"Date of Joining\"].groupby(data_month['Date of Joining'].dt.month).count().plot(kind=\"bar\", xlabel='Month', ylabel=\"Hired employees\")"
      ],
      "metadata": {
        "execution": {
          "iopub.status.busy": "2024-07-23T14:13:57.514344Z",
          "iopub.execute_input": "2024-07-23T14:13:57.516407Z",
          "iopub.status.idle": "2024-07-23T14:13:57.8072Z",
          "shell.execute_reply.started": "2024-07-23T14:13:57.516375Z",
          "shell.execute_reply": "2024-07-23T14:13:57.806163Z"
        },
        "trusted": true,
        "id": "P7k3ZKFGaEIu",
        "outputId": "98bbb8ee-c3af-4d46-87d9-2674d5a5fad4",
        "colab": {
          "base_uri": "https://localhost:8080/",
          "height": 505
        }
      },
      "execution_count": 90,
      "outputs": [
        {
          "output_type": "stream",
          "name": "stdout",
          "text": [
            "Min date 2008-01-01 00:00:00\n",
            "Max date 2008-12-31 00:00:00\n"
          ]
        },
        {
          "output_type": "execute_result",
          "data": {
            "text/plain": [
              "<Axes: xlabel='Month', ylabel='Hired employees'>"
            ]
          },
          "metadata": {},
          "execution_count": 90
        },
        {
          "output_type": "display_data",
          "data": {
            "text/plain": [
              "<Figure size 640x480 with 1 Axes>"
            ],
            "image/png": "[encoded data removed]"
          },
          "metadata": {}
        }
      ]
    },
    {
      "cell_type": "markdown",
      "source": [
        "The date of joining is uniform distributed with values between 2008-01-01 and 2008-12-31. So in order to create a new feature which represents the labor seniority, we could create a variable with de days worked"
      ],
      "metadata": {
        "id": "hI0Yr-nIaEIu"
      }
    },
    {
      "cell_type": "code",
      "source": [
        "# Creating a reference date column\n",
        "#The pd.to_datetime function converts the string \"2008-01-01\" to a datetime object.\n",
        "data_2008 = pd.to_datetime([\"2008-01-01\"]*len(data))\n",
        "# Convert 'Date of Joining' to datetime, subtract reference date, and extract number of days\n",
        "data[\"Days\"] = data['Date of Joining'].astype(\"datetime64[ns]\").sub(data_2008).dt.days\n",
        "data.Days"
      ],
      "metadata": {
        "execution": {
          "iopub.status.busy": "2024-07-23T14:13:57.808686Z",
          "iopub.execute_input": "2024-07-23T14:13:57.809014Z",
          "iopub.status.idle": "2024-07-23T14:13:57.830144Z",
          "shell.execute_reply.started": "2024-07-23T14:13:57.808984Z",
          "shell.execute_reply": "2024-07-23T14:13:57.829085Z"
        },
        "trusted": true,
        "id": "ONacUi_4aEIu",
        "outputId": "df8c2294-f3cb-4aaa-dfdc-78911727ef8e",
        "colab": {
          "base_uri": "https://localhost:8080/",
          "height": 458
        }
      },
      "execution_count": 91,
      "outputs": [
        {
          "output_type": "execute_result",
          "data": {
            "text/plain": [
              "0        273\n",
              "1        334\n",
              "3        307\n",
              "4        205\n",
              "5        330\n",
              "        ... \n",
              "22743    349\n",
              "22744    147\n",
              "22746     18\n",
              "22748      9\n",
              "22749      5\n",
              "Name: Days, Length: 18590, dtype: int64"
            ],
            "text/html": [
              "<div>\n",
              "<style scoped>\n",
              "    .dataframe tbody tr th:only-of-type {\n",
              "        vertical-align: middle;\n",
              "    }\n",
              "\n",
              "    .dataframe tbody tr th {\n",
              "        vertical-align: top;\n",
              "    }\n",
              "\n",
              "    .dataframe thead th {\n",
              "        text-align: right;\n",
              "    }\n",
              "</style>\n",
              "<table border=\"1\" class=\"dataframe\">\n",
              "  <thead>\n",
              "    <tr style=\"text-align: right;\">\n",
              "      <th></th>\n",
              "      <th>Days</th>\n",
              "    </tr>\n",
              "  </thead>\n",
              "  <tbody>\n",
              "    <tr>\n",
              "      <th>0</th>\n",
              "      <td>273</td>\n",
              "    </tr>\n",
              "    <tr>\n",
              "      <th>1</th>\n",
              "      <td>334</td>\n",
              "    </tr>\n",
              "    <tr>\n",
              "      <th>3</th>\n",
              "      <td>307</td>\n",
              "    </tr>\n",
              "    <tr>\n",
              "      <th>4</th>\n",
              "      <td>205</td>\n",
              "    </tr>\n",
              "    <tr>\n",
              "      <th>5</th>\n",
              "      <td>330</td>\n",
              "    </tr>\n",
              "    <tr>\n",
              "      <th>...</th>\n",
              "      <td>...</td>\n",
              "    </tr>\n",
              "    <tr>\n",
              "      <th>22743</th>\n",
              "      <td>349</td>\n",
              "    </tr>\n",
              "    <tr>\n",
              "      <th>22744</th>\n",
              "      <td>147</td>\n",
              "    </tr>\n",
              "    <tr>\n",
              "      <th>22746</th>\n",
              "      <td>18</td>\n",
              "    </tr>\n",
              "    <tr>\n",
              "      <th>22748</th>\n",
              "      <td>9</td>\n",
              "    </tr>\n",
              "    <tr>\n",
              "      <th>22749</th>\n",
              "      <td>5</td>\n",
              "    </tr>\n",
              "  </tbody>\n",
              "</table>\n",
              "<p>18590 rows × 1 columns</p>\n",
              "</div><br><label><b>dtype:</b> int64</label>"
            ]
          },
          "metadata": {},
          "execution_count": 91
        }
      ]
    },
    {
      "cell_type": "code",
      "source": [
        "# Select only numeric columns before calculating correlation\n",
        "numeric_data = data.select_dtypes(include=['number'])  # Select columns with numeric data types\n",
        "correlation = numeric_data.corr()['Burn Rate']  # Calculate the correlation of 'Burn Rate' with other numeric columns\n",
        "print(correlation)  # Print the correlation values"
      ],
      "metadata": {
        "execution": {
          "iopub.status.busy": "2024-07-23T14:13:57.831366Z",
          "iopub.execute_input": "2024-07-23T14:13:57.83165Z",
          "iopub.status.idle": "2024-07-23T14:13:57.843179Z",
          "shell.execute_reply.started": "2024-07-23T14:13:57.831626Z",
          "shell.execute_reply": "2024-07-23T14:13:57.841858Z"
        },
        "trusted": true,
        "id": "iU2OkK8AaEIv",
        "outputId": "233ea3ef-fa5c-4c4c-a365-f3f6de210109",
        "colab": {
          "base_uri": "https://localhost:8080/"
        }
      },
      "execution_count": 92,
      "outputs": [
        {
          "output_type": "stream",
          "name": "stdout",
          "text": [
            "Designation             0.736412\n",
            "Resource Allocation     0.855005\n",
            "Mental Fatigue Score    0.944389\n",
            "Burn Rate               1.000000\n",
            "Days                    0.000309\n",
            "Name: Burn Rate, dtype: float64\n"
          ]
        }
      ]
    },
    {
      "cell_type": "code",
      "source": [
        "# Calculate the correlation matrix for numeric columns only.\n",
        "#Extract the correlation values for 'Burn Rate' with all other numeric features (including itself)\n",
        "data.corr(numeric_only=True)['Burn Rate'][:]\n",
        "#Print the correlation values"
      ],
      "metadata": {
        "execution": {
          "iopub.status.busy": "2024-07-23T14:13:57.844362Z",
          "iopub.execute_input": "2024-07-23T14:13:57.844674Z",
          "iopub.status.idle": "2024-07-23T14:13:57.855288Z",
          "shell.execute_reply.started": "2024-07-23T14:13:57.844647Z",
          "shell.execute_reply": "2024-07-23T14:13:57.854099Z"
        },
        "trusted": true,
        "id": "Gn4z3EvHaEIv",
        "outputId": "bc429f29-bef9-4d45-b457-bb8bc8f5505a",
        "colab": {
          "base_uri": "https://localhost:8080/",
          "height": 241
        }
      },
      "execution_count": 93,
      "outputs": [
        {
          "output_type": "execute_result",
          "data": {
            "text/plain": [
              "Designation             0.736412\n",
              "Resource Allocation     0.855005\n",
              "Mental Fatigue Score    0.944389\n",
              "Burn Rate               1.000000\n",
              "Days                    0.000309\n",
              "Name: Burn Rate, dtype: float64"
            ],
            "text/html": [
              "<div>\n",
              "<style scoped>\n",
              "    .dataframe tbody tr th:only-of-type {\n",
              "        vertical-align: middle;\n",
              "    }\n",
              "\n",
              "    .dataframe tbody tr th {\n",
              "        vertical-align: top;\n",
              "    }\n",
              "\n",
              "    .dataframe thead th {\n",
              "        text-align: right;\n",
              "    }\n",
              "</style>\n",
              "<table border=\"1\" class=\"dataframe\">\n",
              "  <thead>\n",
              "    <tr style=\"text-align: right;\">\n",
              "      <th></th>\n",
              "      <th>Burn Rate</th>\n",
              "    </tr>\n",
              "  </thead>\n",
              "  <tbody>\n",
              "    <tr>\n",
              "      <th>Designation</th>\n",
              "      <td>0.736412</td>\n",
              "    </tr>\n",
              "    <tr>\n",
              "      <th>Resource Allocation</th>\n",
              "      <td>0.855005</td>\n",
              "    </tr>\n",
              "    <tr>\n",
              "      <th>Mental Fatigue Score</th>\n",
              "      <td>0.944389</td>\n",
              "    </tr>\n",
              "    <tr>\n",
              "      <th>Burn Rate</th>\n",
              "      <td>1.000000</td>\n",
              "    </tr>\n",
              "    <tr>\n",
              "      <th>Days</th>\n",
              "      <td>0.000309</td>\n",
              "    </tr>\n",
              "  </tbody>\n",
              "</table>\n",
              "</div><br><label><b>dtype:</b> float64</label>"
            ]
          },
          "metadata": {},
          "execution_count": 93
        }
      ]
    },
    {
      "cell_type": "markdown",
      "source": [
        "We observed that there is no strong correlation between Date of Joining and Burn Rate.So, we are dropping the column Date of Joining."
      ],
      "metadata": {
        "id": "EMGfO_WEaEIv"
      }
    },
    {
      "cell_type": "code",
      "source": [
        "data = data.drop(['Date of Joining','Days'], axis = 1)"
      ],
      "metadata": {
        "execution": {
          "iopub.status.busy": "2024-07-23T14:13:57.856612Z",
          "iopub.execute_input": "2024-07-23T14:13:57.856919Z",
          "iopub.status.idle": "2024-07-23T14:13:57.863432Z",
          "shell.execute_reply.started": "2024-07-23T14:13:57.856892Z",
          "shell.execute_reply": "2024-07-23T14:13:57.862539Z"
        },
        "trusted": true,
        "id": "RCIcCxznaEI2"
      },
      "execution_count": 94,
      "outputs": []
    },
    {
      "cell_type": "code",
      "source": [
        "data.head()"
      ],
      "metadata": {
        "execution": {
          "iopub.status.busy": "2024-07-23T14:13:57.864638Z",
          "iopub.execute_input": "2024-07-23T14:13:57.86493Z",
          "iopub.status.idle": "2024-07-23T14:13:57.884773Z",
          "shell.execute_reply.started": "2024-07-23T14:13:57.864905Z",
          "shell.execute_reply": "2024-07-23T14:13:57.883636Z"
        },
        "trusted": true,
        "id": "Hx9OgKK2aEI3",
        "outputId": "44df1f04-8eae-441d-bee7-fb9b33289728",
        "colab": {
          "base_uri": "https://localhost:8080/",
          "height": 206
        }
      },
      "execution_count": 95,
      "outputs": [
        {
          "output_type": "execute_result",
          "data": {
            "text/plain": [
              "   Gender Company Type WFH Setup Available  Designation  Resource Allocation  \\\n",
              "0  Female      Service                  No            2                  3.0   \n",
              "1    Male      Service                 Yes            1                  2.0   \n",
              "3    Male      Service                 Yes            1                  1.0   \n",
              "4  Female      Service                  No            3                  7.0   \n",
              "5    Male      Product                 Yes            2                  4.0   \n",
              "\n",
              "   Mental Fatigue Score  Burn Rate  \n",
              "0                   3.8       0.16  \n",
              "1                   5.0       0.36  \n",
              "3                   2.6       0.20  \n",
              "4                   6.9       0.52  \n",
              "5                   3.6       0.29  "
            ],
            "text/html": [
              "\n",
              "  <div id=\"df-dae4edfd-0975-4df1-a9d3-2fcb22228c35\" class=\"colab-df-container\">\n",
              "    <div>\n",
              "<style scoped>\n",
              "    .dataframe tbody tr th:only-of-type {\n",
              "        vertical-align: middle;\n",
              "    }\n",
              "\n",
              "    .dataframe tbody tr th {\n",
              "        vertical-align: top;\n",
              "    }\n",
              "\n",
              "    .dataframe thead th {\n",
              "        text-align: right;\n",
              "    }\n",
              "</style>\n",
              "<table border=\"1\" class=\"dataframe\">\n",
              "  <thead>\n",
              "    <tr style=\"text-align: right;\">\n",
              "      <th></th>\n",
              "      <th>Gender</th>\n",
              "      <th>Company Type</th>\n",
              "      <th>WFH Setup Available</th>\n",
              "      <th>Designation</th>\n",
              "      <th>Resource Allocation</th>\n",
              "      <th>Mental Fatigue Score</th>\n",
              "      <th>Burn Rate</th>\n",
              "    </tr>\n",
              "  </thead>\n",
              "  <tbody>\n",
              "    <tr>\n",
              "      <th>0</th>\n",
              "      <td>Female</td>\n",
              "      <td>Service</td>\n",
              "      <td>No</td>\n",
              "      <td>2</td>\n",
              "      <td>3.0</td>\n",
              "      <td>3.8</td>\n",
              "      <td>0.16</td>\n",
              "    </tr>\n",
              "    <tr>\n",
              "      <th>1</th>\n",
              "      <td>Male</td>\n",
              "      <td>Service</td>\n",
              "      <td>Yes</td>\n",
              "      <td>1</td>\n",
              "      <td>2.0</td>\n",
              "      <td>5.0</td>\n",
              "      <td>0.36</td>\n",
              "    </tr>\n",
              "    <tr>\n",
              "      <th>3</th>\n",
              "      <td>Male</td>\n",
              "      <td>Service</td>\n",
              "      <td>Yes</td>\n",
              "      <td>1</td>\n",
              "      <td>1.0</td>\n",
              "      <td>2.6</td>\n",
              "      <td>0.20</td>\n",
              "    </tr>\n",
              "    <tr>\n",
              "      <th>4</th>\n",
              "      <td>Female</td>\n",
              "      <td>Service</td>\n",
              "      <td>No</td>\n",
              "      <td>3</td>\n",
              "      <td>7.0</td>\n",
              "      <td>6.9</td>\n",
              "      <td>0.52</td>\n",
              "    </tr>\n",
              "    <tr>\n",
              "      <th>5</th>\n",
              "      <td>Male</td>\n",
              "      <td>Product</td>\n",
              "      <td>Yes</td>\n",
              "      <td>2</td>\n",
              "      <td>4.0</td>\n",
              "      <td>3.6</td>\n",
              "      <td>0.29</td>\n",
              "    </tr>\n",
              "  </tbody>\n",
              "</table>\n",
              "</div>\n",
              "    <div class=\"colab-df-buttons\">\n",
              "\n",
              "  <div class=\"colab-df-container\">\n",
              "    <button class=\"colab-df-convert\" onclick=\"convertToInteractive('df-dae4edfd-0975-4df1-a9d3-2fcb22228c35')\"\n",
              "            title=\"Convert this dataframe to an interactive table.\"\n",
              "            style=\"display:none;\">\n",
              "\n",
              "  <svg xmlns=\"http://www.w3.org/2000/svg\" height=\"24px\" viewBox=\"0 -960 960 960\">\n",
              "    <path d=\"M120-120v-720h720v720H120Zm60-500h600v-160H180v160Zm220 220h160v-160H400v160Zm0 220h160v-160H400v160ZM180-400h160v-160H180v160Zm440 0h160v-160H620v160ZM180-180h160v-160H180v160Zm440 0h160v-160H620v160Z\"/>\n",
              "  </svg>\n",
              "    </button>\n",
              "\n",
              "  <style>\n",
              "    .colab-df-container {\n",
              "      display:flex;\n",
              "      gap: 12px;\n",
              "    }\n",
              "\n",
              "    .colab-df-convert {\n",
              "      background-color: #E8F0FE;\n",
              "      border: none;\n",
              "      border-radius: 50%;\n",
              "      cursor: pointer;\n",
              "      display: none;\n",
              "      fill: #1967D2;\n",
              "      height: 32px;\n",
              "      padding: 0 0 0 0;\n",
              "      width: 32px;\n",
              "    }\n",
              "\n",
              "    .colab-df-convert:hover {\n",
              "      background-color: #E2EBFA;\n",
              "      box-shadow: 0px 1px 2px rgba(60, 64, 67, 0.3), 0px 1px 3px 1px rgba(60, 64, 67, 0.15);\n",
              "      fill: #174EA6;\n",
              "    }\n",
              "\n",
              "    .colab-df-buttons div {\n",
              "      margin-bottom: 4px;\n",
              "    }\n",
              "\n",
              "    [theme=dark] .colab-df-convert {\n",
              "      background-color: #3B4455;\n",
              "      fill: #D2E3FC;\n",
              "    }\n",
              "\n",
              "    [theme=dark] .colab-df-convert:hover {\n",
              "      background-color: #434B5C;\n",
              "      box-shadow: 0px 1px 3px 1px rgba(0, 0, 0, 0.15);\n",
              "      filter: drop-shadow(0px 1px 2px rgba(0, 0, 0, 0.3));\n",
              "      fill: #FFFFFF;\n",
              "    }\n",
              "  </style>\n",
              "\n",
              "    <script>\n",
              "      const buttonEl =\n",
              "        document.querySelector('#df-dae4edfd-0975-4df1-a9d3-2fcb22228c35 button.colab-df-convert');\n",
              "      buttonEl.style.display =\n",
              "        google.colab.kernel.accessAllowed ? 'block' : 'none';\n",
              "\n",
              "      async function convertToInteractive(key) {\n",
              "        const element = document.querySelector('#df-dae4edfd-0975-4df1-a9d3-2fcb22228c35');\n",
              "        const dataTable =\n",
              "          await google.colab.kernel.invokeFunction('convertToInteractive',\n",
              "                                                    [key], {});\n",
              "        if (!dataTable) return;\n",
              "\n",
              "        const docLinkHtml = 'Like what you see? Visit the ' +\n",
              "          '<a target=\"_blank\" href=https://colab.research.google.com/notebooks/data_table.ipynb>data table notebook</a>'\n",
              "          + ' to learn more about interactive tables.';\n",
              "        element.innerHTML = '';\n",
              "        dataTable['output_type'] = 'display_data';\n",
              "        await google.colab.output.renderOutput(dataTable, element);\n",
              "        const docLink = document.createElement('div');\n",
              "        docLink.innerHTML = docLinkHtml;\n",
              "        element.appendChild(docLink);\n",
              "      }\n",
              "    </script>\n",
              "  </div>\n",
              "\n",
              "\n",
              "<div id=\"df-df631e67-705d-40c6-b1a1-4515f4f9579d\">\n",
              "  <button class=\"colab-df-quickchart\" onclick=\"quickchart('df-df631e67-705d-40c6-b1a1-4515f4f9579d')\"\n",
              "            title=\"Suggest charts\"\n",
              "            style=\"display:none;\">\n",
              "\n",
              "<svg xmlns=\"http://www.w3.org/2000/svg\" height=\"24px\"viewBox=\"0 0 24 24\"\n",
              "     width=\"24px\">\n",
              "    <g>\n",
              "        <path d=\"M19 3H5c-1.1 0-2 .9-2 2v14c0 1.1.9 2 2 2h14c1.1 0 2-.9 2-2V5c0-1.1-.9-2-2-2zM9 17H7v-7h2v7zm4 0h-2V7h2v10zm4 0h-2v-4h2v4z\"/>\n",
              "    </g>\n",
              "</svg>\n",
              "  </button>\n",
              "\n",
              "<style>\n",
              "  .colab-df-quickchart {\n",
              "      --bg-color: #E8F0FE;\n",
              "      --fill-color: #1967D2;\n",
              "      --hover-bg-color: #E2EBFA;\n",
              "      --hover-fill-color: #174EA6;\n",
              "      --disabled-fill-color: #AAA;\n",
              "      --disabled-bg-color: #DDD;\n",
              "  }\n",
              "\n",
              "  [theme=dark] .colab-df-quickchart {\n",
              "      --bg-color: #3B4455;\n",
              "      --fill-color: #D2E3FC;\n",
              "      --hover-bg-color: #434B5C;\n",
              "      --hover-fill-color: #FFFFFF;\n",
              "      --disabled-bg-color: #3B4455;\n",
              "      --disabled-fill-color: #666;\n",
              "  }\n",
              "\n",
              "  .colab-df-quickchart {\n",
              "    background-color: var(--bg-color);\n",
              "    border: none;\n",
              "    border-radius: 50%;\n",
              "    cursor: pointer;\n",
              "    display: none;\n",
              "    fill: var(--fill-color);\n",
              "    height: 32px;\n",
              "    padding: 0;\n",
              "    width: 32px;\n",
              "  }\n",
              "\n",
              "  .colab-df-quickchart:hover {\n",
              "    background-color: var(--hover-bg-color);\n",
              "    box-shadow: 0 1px 2px rgba(60, 64, 67, 0.3), 0 1px 3px 1px rgba(60, 64, 67, 0.15);\n",
              "    fill: var(--button-hover-fill-color);\n",
              "  }\n",
              "\n",
              "  .colab-df-quickchart-complete:disabled,\n",
              "  .colab-df-quickchart-complete:disabled:hover {\n",
              "    background-color: var(--disabled-bg-color);\n",
              "    fill: var(--disabled-fill-color);\n",
              "    box-shadow: none;\n",
              "  }\n",
              "\n",
              "  .colab-df-spinner {\n",
              "    border: 2px solid var(--fill-color);\n",
              "    border-color: transparent;\n",
              "    border-bottom-color: var(--fill-color);\n",
              "    animation:\n",
              "      spin 1s steps(1) infinite;\n",
              "  }\n",
              "\n",
              "  @keyframes spin {\n",
              "    0% {\n",
              "      border-color: transparent;\n",
              "      border-bottom-color: var(--fill-color);\n",
              "      border-left-color: var(--fill-color);\n",
              "    }\n",
              "    20% {\n",
              "      border-color: transparent;\n",
              "      border-left-color: var(--fill-color);\n",
              "      border-top-color: var(--fill-color);\n",
              "    }\n",
              "    30% {\n",
              "      border-color: transparent;\n",
              "      border-left-color: var(--fill-color);\n",
              "      border-top-color: var(--fill-color);\n",
              "      border-right-color: var(--fill-color);\n",
              "    }\n",
              "    40% {\n",
              "      border-color: transparent;\n",
              "      border-right-color: var(--fill-color);\n",
              "      border-top-color: var(--fill-color);\n",
              "    }\n",
              "    60% {\n",
              "      border-color: transparent;\n",
              "      border-right-color: var(--fill-color);\n",
              "    }\n",
              "    80% {\n",
              "      border-color: transparent;\n",
              "      border-right-color: var(--fill-color);\n",
              "      border-bottom-color: var(--fill-color);\n",
              "    }\n",
              "    90% {\n",
              "      border-color: transparent;\n",
              "      border-bottom-color: var(--fill-color);\n",
              "    }\n",
              "  }\n",
              "</style>\n",
              "\n",
              "  <script>\n",
              "    async function quickchart(key) {\n",
              "      const quickchartButtonEl =\n",
              "        document.querySelector('#' + key + ' button');\n",
              "      quickchartButtonEl.disabled = true;  // To prevent multiple clicks.\n",
              "      quickchartButtonEl.classList.add('colab-df-spinner');\n",
              "      try {\n",
              "        const charts = await google.colab.kernel.invokeFunction(\n",
              "            'suggestCharts', [key], {});\n",
              "      } catch (error) {\n",
              "        console.error('Error during call to suggestCharts:', error);\n",
              "      }\n",
              "      quickchartButtonEl.classList.remove('colab-df-spinner');\n",
              "      quickchartButtonEl.classList.add('colab-df-quickchart-complete');\n",
              "    }\n",
              "    (() => {\n",
              "      let quickchartButtonEl =\n",
              "        document.querySelector('#df-df631e67-705d-40c6-b1a1-4515f4f9579d button');\n",
              "      quickchartButtonEl.style.display =\n",
              "        google.colab.kernel.accessAllowed ? 'block' : 'none';\n",
              "    })();\n",
              "  </script>\n",
              "</div>\n",
              "\n",
              "    </div>\n",
              "  </div>\n"
            ],
            "application/vnd.google.colaboratory.intrinsic+json": {
              "type": "dataframe",
              "variable_name": "data",
              "summary": "{\n  \"name\": \"data\",\n  \"rows\": 18590,\n  \"fields\": [\n    {\n      \"column\": \"Gender\",\n      \"properties\": {\n        \"dtype\": \"category\",\n        \"num_unique_values\": 2,\n        \"samples\": [\n          \"Male\",\n          \"Female\"\n        ],\n        \"semantic_type\": \"\",\n        \"description\": \"\"\n      }\n    },\n    {\n      \"column\": \"Company Type\",\n      \"properties\": {\n        \"dtype\": \"category\",\n        \"num_unique_values\": 2,\n        \"samples\": [\n          \"Product\",\n          \"Service\"\n        ],\n        \"semantic_type\": \"\",\n        \"description\": \"\"\n      }\n    },\n    {\n      \"column\": \"WFH Setup Available\",\n      \"properties\": {\n        \"dtype\": \"category\",\n        \"num_unique_values\": 2,\n        \"samples\": [\n          \"Yes\",\n          \"No\"\n        ],\n        \"semantic_type\": \"\",\n        \"description\": \"\"\n      }\n    },\n    {\n      \"column\": \"Designation\",\n      \"properties\": {\n        \"dtype\": \"number\",\n        \"std\": 1,\n        \"min\": 0,\n        \"max\": 5,\n        \"num_unique_values\": 6,\n        \"samples\": [\n          2,\n          1\n        ],\n        \"semantic_type\": \"\",\n        \"description\": \"\"\n      }\n    },\n    {\n      \"column\": \"Resource Allocation\",\n      \"properties\": {\n        \"dtype\": \"number\",\n        \"std\": 2.0448484108269387,\n        \"min\": 1.0,\n        \"max\": 10.0,\n        \"num_unique_values\": 10,\n        \"samples\": [\n          10.0,\n          2.0\n        ],\n        \"semantic_type\": \"\",\n        \"description\": \"\"\n      }\n    },\n    {\n      \"column\": \"Mental Fatigue Score\",\n      \"properties\": {\n        \"dtype\": \"number\",\n        \"std\": 1.9205468069740497,\n        \"min\": 0.0,\n        \"max\": 10.0,\n        \"num_unique_values\": 101,\n        \"samples\": [\n          9.6,\n          8.6\n        ],\n        \"semantic_type\": \"\",\n        \"description\": \"\"\n      }\n    },\n    {\n      \"column\": \"Burn Rate\",\n      \"properties\": {\n        \"dtype\": \"number\",\n        \"std\": 0.1978475722276363,\n        \"min\": 0.0,\n        \"max\": 1.0,\n        \"num_unique_values\": 101,\n        \"samples\": [\n          0.08,\n          0.4\n        ],\n        \"semantic_type\": \"\",\n        \"description\": \"\"\n      }\n    }\n  ]\n}"
            }
          },
          "metadata": {},
          "execution_count": 95
        }
      ]
    },
    {
      "cell_type": "markdown",
      "source": [
        "# **Now analysing the categorical variables**"
      ],
      "metadata": {
        "id": "S7WL-K2haEI3"
      }
    },
    {
      "cell_type": "code",
      "source": [
        "cat_columns = data.select_dtypes(object).columns  # Select categorical columns\n",
        "# Create subplots based on number of categorical columns\n",
        "fig, ax = plt.subplots(nrows=1, ncols=len(cat_columns), sharey=True, figsize=(10, 5))\n",
        "for i, c in enumerate(cat_columns):  # Loop over each categorical column\n",
        "    sns.countplot(x=c, data=data, ax=ax[i])  # Plot countplot for each categorical column\n",
        "plt.show()  # Display the plot"
      ],
      "metadata": {
        "execution": {
          "iopub.status.busy": "2024-07-23T14:13:57.886401Z",
          "iopub.execute_input": "2024-07-23T14:13:57.886822Z",
          "iopub.status.idle": "2024-07-23T14:13:58.283567Z",
          "shell.execute_reply.started": "2024-07-23T14:13:57.886784Z",
          "shell.execute_reply": "2024-07-23T14:13:58.282627Z"
        },
        "trusted": true,
        "id": "KN0pxbiGaEI3",
        "outputId": "fda3f09f-a942-423e-896a-172f8573792b",
        "colab": {
          "base_uri": "https://localhost:8080/",
          "height": 465
        }
      },
      "execution_count": 96,
      "outputs": [
        {
          "output_type": "display_data",
          "data": {
            "text/plain": [
              "<Figure size 1000x500 with 3 Axes>"
            ],
            "image/png": "[encoded data removed]"
          },
          "metadata": {}
        }
      ]
    },
    {
      "cell_type": "markdown",
      "source": [
        "The number of observations of each category on each variable is equally distributed, except to the Company_Type where the number of service jobs its almost twice that of product ones."
      ],
      "metadata": {
        "id": "lKh6Dmx6aEI3"
      }
    },
    {
      "cell_type": "markdown",
      "source": [
        "# **One-Hot Encoding for categorical features**"
      ],
      "metadata": {
        "id": "tuRJZxtsaEI3"
      }
    },
    {
      "cell_type": "markdown",
      "source": [
        "\n",
        "Column existence check: Ensures that the columns to be encoded are present in the DataFrame, avoiding errors during the encoding process.\n",
        "\n",
        "One-hot encoding: Converts categorical columns into binary (0 or 1) columns, which are necessary for many machine learning algorithms.\n",
        "\n",
        "Debugging: Provides information on the current state of the DataFrame if the specified columns are missing, aiding in troubleshooting."
      ],
      "metadata": {
        "id": "h9Rc4mRFaEI4"
      }
    },
    {
      "cell_type": "code",
      "source": [
        "# Check if the columns exist before applying get_dummies\n",
        "if all(col in data.columns for col in ['Company Type', 'WFH Setup Available', 'Gender']):\n",
        "    data = pd.get_dummies(data, columns=['Company Type', 'WFH Setup Available','Gender'], drop_first=True)\n",
        "    data.head()\n",
        "    encoded_columns = data.columns\n",
        "else:\n",
        "    print(\"Error: One or more of the specified columns are not present in the DataFrame.\")\n",
        "    # Add debugging steps here to investigate why the columns are missing.\n",
        "    # For example, print the existing columns:\n",
        "    print(data.columns)"
      ],
      "metadata": {
        "execution": {
          "iopub.status.busy": "2024-07-23T14:13:58.284794Z",
          "iopub.execute_input": "2024-07-23T14:13:58.285143Z",
          "iopub.status.idle": "2024-07-23T14:13:58.30301Z",
          "shell.execute_reply.started": "2024-07-23T14:13:58.285091Z",
          "shell.execute_reply": "2024-07-23T14:13:58.302082Z"
        },
        "trusted": true,
        "id": "08Eqw4HMaEI4"
      },
      "execution_count": 97,
      "outputs": []
    },
    {
      "cell_type": "markdown",
      "source": [
        "# Preprocessing"
      ],
      "metadata": {
        "id": "kijLqi9VaEI4"
      }
    },
    {
      "cell_type": "markdown",
      "source": [
        "Feature Matrix (X): Contains all the input features (or independent variables) that the model will use to make predictions. Target Variable (y): Contains the output variable (or dependent variable) that the model aims to predict. Train-Test Split: Divides the dataset into training and test sets to evaluate model performance. Scaling: Standardizes the features to have a mean of 0 and a standard deviation of 1, which helps in improving the performance and training speed of many machine learning models."
      ],
      "metadata": {
        "id": "SvA73ZREaEI4"
      }
    },
    {
      "cell_type": "code",
      "source": [
        "# Split df into X and y\n",
        "y = data['Burn Rate']\n",
        "X = data.drop('Burn Rate', axis=1)"
      ],
      "metadata": {
        "execution": {
          "iopub.status.busy": "2024-07-23T14:13:58.304404Z",
          "iopub.execute_input": "2024-07-23T14:13:58.30472Z",
          "iopub.status.idle": "2024-07-23T14:13:58.313611Z",
          "shell.execute_reply.started": "2024-07-23T14:13:58.304685Z",
          "shell.execute_reply": "2024-07-23T14:13:58.312369Z"
        },
        "trusted": true,
        "id": "Do65L2vvaEI5"
      },
      "execution_count": 98,
      "outputs": []
    },
    {
      "cell_type": "code",
      "source": [
        "# splitting the data into training and test sets, and scaling the feature data.\n",
        "#Train-test split\n",
        "X_train, X_test, y_train, y_test = train_test_split(X, y, train_size=0.7, shuffle=True, random_state=1)\n",
        "\n",
        "# Scale X\n",
        "# Initialize the scaler\n",
        "scaler = StandardScaler()\n",
        "scaler.fit(X_train)\n",
        "# Transform the training data\n",
        "X_train = pd.DataFrame(scaler.transform(X_train), index=X_train.index, columns=X_train.columns)\n",
        "# Transform the test data\n",
        "X_test = pd.DataFrame(scaler.transform(X_test), index=X_test.index, columns=X_test.columns )"
      ],
      "metadata": {
        "execution": {
          "iopub.status.busy": "2024-07-23T14:13:58.315073Z",
          "iopub.execute_input": "2024-07-23T14:13:58.315677Z",
          "iopub.status.idle": "2024-07-23T14:13:58.337299Z",
          "shell.execute_reply.started": "2024-07-23T14:13:58.315643Z",
          "shell.execute_reply": "2024-07-23T14:13:58.336239Z"
        },
        "trusted": true,
        "id": "kxFleSyqaEI5"
      },
      "execution_count": 99,
      "outputs": []
    },
    {
      "cell_type": "code",
      "source": [
        "import os\n",
        "import pickle\n",
        "\n",
        "scaler_filename = '../models/scaler.pkl'\n",
        "\n",
        "# Create the 'models' directory if it doesn't exist\n",
        "os.makedirs(os.path.dirname(scaler_filename), exist_ok=True)\n",
        "\n",
        "# Use pickle to save the scaler to the file\n",
        "with open(scaler_filename, 'wb') as scaler_file:\n",
        "    pickle.dump(scaler, scaler_file)"
      ],
      "metadata": {
        "execution": {
          "iopub.status.busy": "2024-07-23T14:13:58.33844Z",
          "iopub.execute_input": "2024-07-23T14:13:58.33873Z",
          "iopub.status.idle": "2024-07-23T14:13:58.345004Z",
          "shell.execute_reply.started": "2024-07-23T14:13:58.338705Z",
          "shell.execute_reply": "2024-07-23T14:13:58.343921Z"
        },
        "trusted": true,
        "id": "AXz_d1wfaEI6"
      },
      "execution_count": 100,
      "outputs": []
    },
    {
      "cell_type": "code",
      "source": [
        "X_train #The feature data (X_train) consists of 6 columns"
      ],
      "metadata": {
        "execution": {
          "iopub.status.busy": "2024-07-23T14:13:58.351544Z",
          "iopub.execute_input": "2024-07-23T14:13:58.351929Z",
          "iopub.status.idle": "2024-07-23T14:13:58.367492Z",
          "shell.execute_reply.started": "2024-07-23T14:13:58.351897Z",
          "shell.execute_reply": "2024-07-23T14:13:58.366413Z"
        },
        "trusted": true,
        "id": "qRXpCFuJaEI6",
        "outputId": "7864ef29-4f60-4a7a-9355-7dc08f015ebf",
        "colab": {
          "base_uri": "https://localhost:8080/",
          "height": 424
        }
      },
      "execution_count": 101,
      "outputs": [
        {
          "output_type": "execute_result",
          "data": {
            "text/plain": [
              "       Designation  Resource Allocation  Mental Fatigue Score  \\\n",
              "8977      0.723327             0.250185             -0.061773   \n",
              "14115    -0.159330             0.250185             -0.941481   \n",
              "8797      0.723327             0.250185              0.973179   \n",
              "1173     -1.041987            -1.214568             -0.579248   \n",
              "1941     -0.159330             0.738436              1.180169   \n",
              "...            ...                  ...                   ...   \n",
              "13453     0.723327             1.226687              1.645897   \n",
              "21179     0.723327             0.250185             -1.044976   \n",
              "6327      0.723327             0.250185              0.093470   \n",
              "14933    -0.159330             0.250185              0.714441   \n",
              "288      -0.159330             0.250185              1.076674   \n",
              "\n",
              "       Company Type_Service  WFH Setup Available_Yes  Gender_Male  \n",
              "8977               0.724706                -1.082297     1.051505  \n",
              "14115              0.724706                -1.082297    -0.951018  \n",
              "8797               0.724706                -1.082297    -0.951018  \n",
              "1173              -1.379869                -1.082297    -0.951018  \n",
              "1941              -1.379869                 0.923961     1.051505  \n",
              "...                     ...                      ...          ...  \n",
              "13453             -1.379869                 0.923961    -0.951018  \n",
              "21179              0.724706                 0.923961     1.051505  \n",
              "6327               0.724706                -1.082297     1.051505  \n",
              "14933              0.724706                -1.082297     1.051505  \n",
              "288               -1.379869                -1.082297    -0.951018  \n",
              "\n",
              "[13013 rows x 6 columns]"
            ],
            "text/html": [
              "\n",
              "  <div id=\"df-1702b7fd-2f35-4e94-81f2-389fd98eca7e\" class=\"colab-df-container\">\n",
              "    <div>\n",
              "<style scoped>\n",
              "    .dataframe tbody tr th:only-of-type {\n",
              "        vertical-align: middle;\n",
              "    }\n",
              "\n",
              "    .dataframe tbody tr th {\n",
              "        vertical-align: top;\n",
              "    }\n",
              "\n",
              "    .dataframe thead th {\n",
              "        text-align: right;\n",
              "    }\n",
              "</style>\n",
              "<table border=\"1\" class=\"dataframe\">\n",
              "  <thead>\n",
              "    <tr style=\"text-align: right;\">\n",
              "      <th></th>\n",
              "      <th>Designation</th>\n",
              "      <th>Resource Allocation</th>\n",
              "      <th>Mental Fatigue Score</th>\n",
              "      <th>Company Type_Service</th>\n",
              "      <th>WFH Setup Available_Yes</th>\n",
              "      <th>Gender_Male</th>\n",
              "    </tr>\n",
              "  </thead>\n",
              "  <tbody>\n",
              "    <tr>\n",
              "      <th>8977</th>\n",
              "      <td>0.723327</td>\n",
              "      <td>0.250185</td>\n",
              "      <td>-0.061773</td>\n",
              "      <td>0.724706</td>\n",
              "      <td>-1.082297</td>\n",
              "      <td>1.051505</td>\n",
              "    </tr>\n",
              "    <tr>\n",
              "      <th>14115</th>\n",
              "      <td>-0.159330</td>\n",
              "      <td>0.250185</td>\n",
              "      <td>-0.941481</td>\n",
              "      <td>0.724706</td>\n",
              "      <td>-1.082297</td>\n",
              "      <td>-0.951018</td>\n",
              "    </tr>\n",
              "    <tr>\n",
              "      <th>8797</th>\n",
              "      <td>0.723327</td>\n",
              "      <td>0.250185</td>\n",
              "      <td>0.973179</td>\n",
              "      <td>0.724706</td>\n",
              "      <td>-1.082297</td>\n",
              "      <td>-0.951018</td>\n",
              "    </tr>\n",
              "    <tr>\n",
              "      <th>1173</th>\n",
              "      <td>-1.041987</td>\n",
              "      <td>-1.214568</td>\n",
              "      <td>-0.579248</td>\n",
              "      <td>-1.379869</td>\n",
              "      <td>-1.082297</td>\n",
              "      <td>-0.951018</td>\n",
              "    </tr>\n",
              "    <tr>\n",
              "      <th>1941</th>\n",
              "      <td>-0.159330</td>\n",
              "      <td>0.738436</td>\n",
              "      <td>1.180169</td>\n",
              "      <td>-1.379869</td>\n",
              "      <td>0.923961</td>\n",
              "      <td>1.051505</td>\n",
              "    </tr>\n",
              "    <tr>\n",
              "      <th>...</th>\n",
              "      <td>...</td>\n",
              "      <td>...</td>\n",
              "      <td>...</td>\n",
              "      <td>...</td>\n",
              "      <td>...</td>\n",
              "      <td>...</td>\n",
              "    </tr>\n",
              "    <tr>\n",
              "      <th>13453</th>\n",
              "      <td>0.723327</td>\n",
              "      <td>1.226687</td>\n",
              "      <td>1.645897</td>\n",
              "      <td>-1.379869</td>\n",
              "      <td>0.923961</td>\n",
              "      <td>-0.951018</td>\n",
              "    </tr>\n",
              "    <tr>\n",
              "      <th>21179</th>\n",
              "      <td>0.723327</td>\n",
              "      <td>0.250185</td>\n",
              "      <td>-1.044976</td>\n",
              "      <td>0.724706</td>\n",
              "      <td>0.923961</td>\n",
              "      <td>1.051505</td>\n",
              "    </tr>\n",
              "    <tr>\n",
              "      <th>6327</th>\n",
              "      <td>0.723327</td>\n",
              "      <td>0.250185</td>\n",
              "      <td>0.093470</td>\n",
              "      <td>0.724706</td>\n",
              "      <td>-1.082297</td>\n",
              "      <td>1.051505</td>\n",
              "    </tr>\n",
              "    <tr>\n",
              "      <th>14933</th>\n",
              "      <td>-0.159330</td>\n",
              "      <td>0.250185</td>\n",
              "      <td>0.714441</td>\n",
              "      <td>0.724706</td>\n",
              "      <td>-1.082297</td>\n",
              "      <td>1.051505</td>\n",
              "    </tr>\n",
              "    <tr>\n",
              "      <th>288</th>\n",
              "      <td>-0.159330</td>\n",
              "      <td>0.250185</td>\n",
              "      <td>1.076674</td>\n",
              "      <td>-1.379869</td>\n",
              "      <td>-1.082297</td>\n",
              "      <td>-0.951018</td>\n",
              "    </tr>\n",
              "  </tbody>\n",
              "</table>\n",
              "<p>13013 rows × 6 columns</p>\n",
              "</div>\n",
              "    <div class=\"colab-df-buttons\">\n",
              "\n",
              "  <div class=\"colab-df-container\">\n",
              "    <button class=\"colab-df-convert\" onclick=\"convertToInteractive('df-1702b7fd-2f35-4e94-81f2-389fd98eca7e')\"\n",
              "            title=\"Convert this dataframe to an interactive table.\"\n",
              "            style=\"display:none;\">\n",
              "\n",
              "  <svg xmlns=\"http://www.w3.org/2000/svg\" height=\"24px\" viewBox=\"0 -960 960 960\">\n",
              "    <path d=\"M120-120v-720h720v720H120Zm60-500h600v-160H180v160Zm220 220h160v-160H400v160Zm0 220h160v-160H400v160ZM180-400h160v-160H180v160Zm440 0h160v-160H620v160ZM180-180h160v-160H180v160Zm440 0h160v-160H620v160Z\"/>\n",
              "  </svg>\n",
              "    </button>\n",
              "\n",
              "  <style>\n",
              "    .colab-df-container {\n",
              "      display:flex;\n",
              "      gap: 12px;\n",
              "    }\n",
              "\n",
              "    .colab-df-convert {\n",
              "      background-color: #E8F0FE;\n",
              "      border: none;\n",
              "      border-radius: 50%;\n",
              "      cursor: pointer;\n",
              "      display: none;\n",
              "      fill: #1967D2;\n",
              "      height: 32px;\n",
              "      padding: 0 0 0 0;\n",
              "      width: 32px;\n",
              "    }\n",
              "\n",
              "    .colab-df-convert:hover {\n",
              "      background-color: #E2EBFA;\n",
              "      box-shadow: 0px 1px 2px rgba(60, 64, 67, 0.3), 0px 1px 3px 1px rgba(60, 64, 67, 0.15);\n",
              "      fill: #174EA6;\n",
              "    }\n",
              "\n",
              "    .colab-df-buttons div {\n",
              "      margin-bottom: 4px;\n",
              "    }\n",
              "\n",
              "    [theme=dark] .colab-df-convert {\n",
              "      background-color: #3B4455;\n",
              "      fill: #D2E3FC;\n",
              "    }\n",
              "\n",
              "    [theme=dark] .colab-df-convert:hover {\n",
              "      background-color: #434B5C;\n",
              "      box-shadow: 0px 1px 3px 1px rgba(0, 0, 0, 0.15);\n",
              "      filter: drop-shadow(0px 1px 2px rgba(0, 0, 0, 0.3));\n",
              "      fill: #FFFFFF;\n",
              "    }\n",
              "  </style>\n",
              "\n",
              "    <script>\n",
              "      const buttonEl =\n",
              "        document.querySelector('#df-1702b7fd-2f35-4e94-81f2-389fd98eca7e button.colab-df-convert');\n",
              "      buttonEl.style.display =\n",
              "        google.colab.kernel.accessAllowed ? 'block' : 'none';\n",
              "\n",
              "      async function convertToInteractive(key) {\n",
              "        const element = document.querySelector('#df-1702b7fd-2f35-4e94-81f2-389fd98eca7e');\n",
              "        const dataTable =\n",
              "          await google.colab.kernel.invokeFunction('convertToInteractive',\n",
              "                                                    [key], {});\n",
              "        if (!dataTable) return;\n",
              "\n",
              "        const docLinkHtml = 'Like what you see? Visit the ' +\n",
              "          '<a target=\"_blank\" href=https://colab.research.google.com/notebooks/data_table.ipynb>data table notebook</a>'\n",
              "          + ' to learn more about interactive tables.';\n",
              "        element.innerHTML = '';\n",
              "        dataTable['output_type'] = 'display_data';\n",
              "        await google.colab.output.renderOutput(dataTable, element);\n",
              "        const docLink = document.createElement('div');\n",
              "        docLink.innerHTML = docLinkHtml;\n",
              "        element.appendChild(docLink);\n",
              "      }\n",
              "    </script>\n",
              "  </div>\n",
              "\n",
              "\n",
              "<div id=\"df-ee43363a-69b1-490c-a601-26c436a63f69\">\n",
              "  <button class=\"colab-df-quickchart\" onclick=\"quickchart('df-ee43363a-69b1-490c-a601-26c436a63f69')\"\n",
              "            title=\"Suggest charts\"\n",
              "            style=\"display:none;\">\n",
              "\n",
              "<svg xmlns=\"http://www.w3.org/2000/svg\" height=\"24px\"viewBox=\"0 0 24 24\"\n",
              "     width=\"24px\">\n",
              "    <g>\n",
              "        <path d=\"M19 3H5c-1.1 0-2 .9-2 2v14c0 1.1.9 2 2 2h14c1.1 0 2-.9 2-2V5c0-1.1-.9-2-2-2zM9 17H7v-7h2v7zm4 0h-2V7h2v10zm4 0h-2v-4h2v4z\"/>\n",
              "    </g>\n",
              "</svg>\n",
              "  </button>\n",
              "\n",
              "<style>\n",
              "  .colab-df-quickchart {\n",
              "      --bg-color: #E8F0FE;\n",
              "      --fill-color: #1967D2;\n",
              "      --hover-bg-color: #E2EBFA;\n",
              "      --hover-fill-color: #174EA6;\n",
              "      --disabled-fill-color: #AAA;\n",
              "      --disabled-bg-color: #DDD;\n",
              "  }\n",
              "\n",
              "  [theme=dark] .colab-df-quickchart {\n",
              "      --bg-color: #3B4455;\n",
              "      --fill-color: #D2E3FC;\n",
              "      --hover-bg-color: #434B5C;\n",
              "      --hover-fill-color: #FFFFFF;\n",
              "      --disabled-bg-color: #3B4455;\n",
              "      --disabled-fill-color: #666;\n",
              "  }\n",
              "\n",
              "  .colab-df-quickchart {\n",
              "    background-color: var(--bg-color);\n",
              "    border: none;\n",
              "    border-radius: 50%;\n",
              "    cursor: pointer;\n",
              "    display: none;\n",
              "    fill: var(--fill-color);\n",
              "    height: 32px;\n",
              "    padding: 0;\n",
              "    width: 32px;\n",
              "  }\n",
              "\n",
              "  .colab-df-quickchart:hover {\n",
              "    background-color: var(--hover-bg-color);\n",
              "    box-shadow: 0 1px 2px rgba(60, 64, 67, 0.3), 0 1px 3px 1px rgba(60, 64, 67, 0.15);\n",
              "    fill: var(--button-hover-fill-color);\n",
              "  }\n",
              "\n",
              "  .colab-df-quickchart-complete:disabled,\n",
              "  .colab-df-quickchart-complete:disabled:hover {\n",
              "    background-color: var(--disabled-bg-color);\n",
              "    fill: var(--disabled-fill-color);\n",
              "    box-shadow: none;\n",
              "  }\n",
              "\n",
              "  .colab-df-spinner {\n",
              "    border: 2px solid var(--fill-color);\n",
              "    border-color: transparent;\n",
              "    border-bottom-color: var(--fill-color);\n",
              "    animation:\n",
              "      spin 1s steps(1) infinite;\n",
              "  }\n",
              "\n",
              "  @keyframes spin {\n",
              "    0% {\n",
              "      border-color: transparent;\n",
              "      border-bottom-color: var(--fill-color);\n",
              "      border-left-color: var(--fill-color);\n",
              "    }\n",
              "    20% {\n",
              "      border-color: transparent;\n",
              "      border-left-color: var(--fill-color);\n",
              "      border-top-color: var(--fill-color);\n",
              "    }\n",
              "    30% {\n",
              "      border-color: transparent;\n",
              "      border-left-color: var(--fill-color);\n",
              "      border-top-color: var(--fill-color);\n",
              "      border-right-color: var(--fill-color);\n",
              "    }\n",
              "    40% {\n",
              "      border-color: transparent;\n",
              "      border-right-color: var(--fill-color);\n",
              "      border-top-color: var(--fill-color);\n",
              "    }\n",
              "    60% {\n",
              "      border-color: transparent;\n",
              "      border-right-color: var(--fill-color);\n",
              "    }\n",
              "    80% {\n",
              "      border-color: transparent;\n",
              "      border-right-color: var(--fill-color);\n",
              "      border-bottom-color: var(--fill-color);\n",
              "    }\n",
              "    90% {\n",
              "      border-color: transparent;\n",
              "      border-bottom-color: var(--fill-color);\n",
              "    }\n",
              "  }\n",
              "</style>\n",
              "\n",
              "  <script>\n",
              "    async function quickchart(key) {\n",
              "      const quickchartButtonEl =\n",
              "        document.querySelector('#' + key + ' button');\n",
              "      quickchartButtonEl.disabled = true;  // To prevent multiple clicks.\n",
              "      quickchartButtonEl.classList.add('colab-df-spinner');\n",
              "      try {\n",
              "        const charts = await google.colab.kernel.invokeFunction(\n",
              "            'suggestCharts', [key], {});\n",
              "      } catch (error) {\n",
              "        console.error('Error during call to suggestCharts:', error);\n",
              "      }\n",
              "      quickchartButtonEl.classList.remove('colab-df-spinner');\n",
              "      quickchartButtonEl.classList.add('colab-df-quickchart-complete');\n",
              "    }\n",
              "    (() => {\n",
              "      let quickchartButtonEl =\n",
              "        document.querySelector('#df-ee43363a-69b1-490c-a601-26c436a63f69 button');\n",
              "      quickchartButtonEl.style.display =\n",
              "        google.colab.kernel.accessAllowed ? 'block' : 'none';\n",
              "    })();\n",
              "  </script>\n",
              "</div>\n",
              "\n",
              "  <div id=\"id_2f707eaa-6b1c-4205-a582-b7490a6e06ec\">\n",
              "    <style>\n",
              "      .colab-df-generate {\n",
              "        background-color: #E8F0FE;\n",
              "        border: none;\n",
              "        border-radius: 50%;\n",
              "        cursor: pointer;\n",
              "        display: none;\n",
              "        fill: #1967D2;\n",
              "        height: 32px;\n",
              "        padding: 0 0 0 0;\n",
              "        width: 32px;\n",
              "      }\n",
              "\n",
              "      .colab-df-generate:hover {\n",
              "        background-color: #E2EBFA;\n",
              "        box-shadow: 0px 1px 2px rgba(60, 64, 67, 0.3), 0px 1px 3px 1px rgba(60, 64, 67, 0.15);\n",
              "        fill: #174EA6;\n",
              "      }\n",
              "\n",
              "      [theme=dark] .colab-df-generate {\n",
              "        background-color: #3B4455;\n",
              "        fill: #D2E3FC;\n",
              "      }\n",
              "\n",
              "      [theme=dark] .colab-df-generate:hover {\n",
              "        background-color: #434B5C;\n",
              "        box-shadow: 0px 1px 3px 1px rgba(0, 0, 0, 0.15);\n",
              "        filter: drop-shadow(0px 1px 2px rgba(0, 0, 0, 0.3));\n",
              "        fill: #FFFFFF;\n",
              "      }\n",
              "    </style>\n",
              "    <button class=\"colab-df-generate\" onclick=\"generateWithVariable('X_train')\"\n",
              "            title=\"Generate code using this dataframe.\"\n",
              "            style=\"display:none;\">\n",
              "\n",
              "  <svg xmlns=\"http://www.w3.org/2000/svg\" height=\"24px\"viewBox=\"0 0 24 24\"\n",
              "       width=\"24px\">\n",
              "    <path d=\"M7,19H8.4L18.45,9,17,7.55,7,17.6ZM5,21V16.75L18.45,3.32a2,2,0,0,1,2.83,0l1.4,1.43a1.91,1.91,0,0,1,.58,1.4,1.91,1.91,0,0,1-.58,1.4L9.25,21ZM18.45,9,17,7.55Zm-12,3A5.31,5.31,0,0,0,4.9,8.1,5.31,5.31,0,0,0,1,6.5,5.31,5.31,0,0,0,4.9,4.9,5.31,5.31,0,0,0,6.5,1,5.31,5.31,0,0,0,8.1,4.9,5.31,5.31,0,0,0,12,6.5,5.46,5.46,0,0,0,6.5,12Z\"/>\n",
              "  </svg>\n",
              "    </button>\n",
              "    <script>\n",
              "      (() => {\n",
              "      const buttonEl =\n",
              "        document.querySelector('#id_2f707eaa-6b1c-4205-a582-b7490a6e06ec button.colab-df-generate');\n",
              "      buttonEl.style.display =\n",
              "        google.colab.kernel.accessAllowed ? 'block' : 'none';\n",
              "\n",
              "      buttonEl.onclick = () => {\n",
              "        google.colab.notebook.generateWithVariable('X_train');\n",
              "      }\n",
              "      })();\n",
              "    </script>\n",
              "  </div>\n",
              "\n",
              "    </div>\n",
              "  </div>\n"
            ],
            "application/vnd.google.colaboratory.intrinsic+json": {
              "type": "dataframe",
              "variable_name": "X_train",
              "summary": "{\n  \"name\": \"X_train\",\n  \"rows\": 13013,\n  \"fields\": [\n    {\n      \"column\": \"Designation\",\n      \"properties\": {\n        \"dtype\": \"number\",\n        \"std\": 1.0000384253299917,\n        \"min\": -1.9246430841316529,\n        \"max\": 2.4886398152172813,\n        \"num_unique_values\": 6,\n        \"samples\": [\n          0.7233266554777076,\n          -0.15932992439207924,\n          -1.9246430841316529\n        ],\n        \"semantic_type\": \"\",\n        \"description\": \"\"\n      }\n    },\n    {\n      \"column\": \"Resource Allocation\",\n      \"properties\": {\n        \"dtype\": \"number\",\n        \"std\": 1.0000384253299917,\n        \"min\": -1.702818911826727,\n        \"max\": 2.691439912790116,\n        \"num_unique_values\": 10,\n        \"samples\": [\n          -1.702818911826727,\n          -1.2145679313137445,\n          1.714937951764151\n        ],\n        \"semantic_type\": \"\",\n        \"description\": \"\"\n      }\n    },\n    {\n      \"column\": \"Mental Fatigue Score\",\n      \"properties\": {\n        \"dtype\": \"number\",\n        \"std\": 1.0000384253299917,\n        \"min\": -2.9596357989370934,\n        \"max\": 2.2151199526085183,\n        \"num_unique_values\": 101,\n        \"samples\": [\n          2.0081297225466934,\n          -0.682743268257024,\n          -2.2351699937207075\n        ],\n        \"semantic_type\": \"\",\n        \"description\": \"\"\n      }\n    },\n    {\n      \"column\": \"Company Type_Service\",\n      \"properties\": {\n        \"dtype\": \"number\",\n        \"std\": 1.0000384253299917,\n        \"min\": -1.3798692970521191,\n        \"max\": 0.7247063197480715,\n        \"num_unique_values\": 2,\n        \"samples\": [\n          -1.3798692970521191,\n          0.7247063197480715\n        ],\n        \"semantic_type\": \"\",\n        \"description\": \"\"\n      }\n    },\n    {\n      \"column\": \"WFH Setup Available_Yes\",\n      \"properties\": {\n        \"dtype\": \"number\",\n        \"std\": 1.0000384253299919,\n        \"min\": -1.0822969067497545,\n        \"max\": 0.9239608777993273,\n        \"num_unique_values\": 2,\n        \"samples\": [\n          0.9239608777993273,\n          -1.0822969067497545\n        ],\n        \"semantic_type\": \"\",\n        \"description\": \"\"\n      }\n    },\n    {\n      \"column\": \"Gender_Male\",\n      \"properties\": {\n        \"dtype\": \"number\",\n        \"std\": 1.0000384253299919,\n        \"min\": -0.9510175406646486,\n        \"max\": 1.0515053164015444,\n        \"num_unique_values\": 2,\n        \"samples\": [\n          -0.9510175406646486,\n          1.0515053164015444\n        ],\n        \"semantic_type\": \"\",\n        \"description\": \"\"\n      }\n    }\n  ]\n}"
            }
          },
          "metadata": {},
          "execution_count": 101
        }
      ]
    },
    {
      "cell_type": "code",
      "source": [
        "y_train\n",
        "#The target variable (y_train) contains the burnout rate for each corresponding employee in the feature data (X_train)"
      ],
      "metadata": {
        "execution": {
          "iopub.status.busy": "2024-07-23T14:13:58.368746Z",
          "iopub.execute_input": "2024-07-23T14:13:58.369177Z",
          "iopub.status.idle": "2024-07-23T14:13:58.381885Z",
          "shell.execute_reply.started": "2024-07-23T14:13:58.369138Z",
          "shell.execute_reply": "2024-07-23T14:13:58.380733Z"
        },
        "trusted": true,
        "id": "P4gapQCXaEI7",
        "outputId": "ba9d5307-b1d8-40c2-edc3-e72410a6c3dc",
        "colab": {
          "base_uri": "https://localhost:8080/",
          "height": 458
        }
      },
      "execution_count": 102,
      "outputs": [
        {
          "output_type": "execute_result",
          "data": {
            "text/plain": [
              "8977     0.41\n",
              "14115    0.34\n",
              "8797     0.61\n",
              "1173     0.35\n",
              "1941     0.61\n",
              "         ... \n",
              "13453    0.78\n",
              "21179    0.30\n",
              "6327     0.42\n",
              "14933    0.54\n",
              "288      0.57\n",
              "Name: Burn Rate, Length: 13013, dtype: float64"
            ],
            "text/html": [
              "<div>\n",
              "<style scoped>\n",
              "    .dataframe tbody tr th:only-of-type {\n",
              "        vertical-align: middle;\n",
              "    }\n",
              "\n",
              "    .dataframe tbody tr th {\n",
              "        vertical-align: top;\n",
              "    }\n",
              "\n",
              "    .dataframe thead th {\n",
              "        text-align: right;\n",
              "    }\n",
              "</style>\n",
              "<table border=\"1\" class=\"dataframe\">\n",
              "  <thead>\n",
              "    <tr style=\"text-align: right;\">\n",
              "      <th></th>\n",
              "      <th>Burn Rate</th>\n",
              "    </tr>\n",
              "  </thead>\n",
              "  <tbody>\n",
              "    <tr>\n",
              "      <th>8977</th>\n",
              "      <td>0.41</td>\n",
              "    </tr>\n",
              "    <tr>\n",
              "      <th>14115</th>\n",
              "      <td>0.34</td>\n",
              "    </tr>\n",
              "    <tr>\n",
              "      <th>8797</th>\n",
              "      <td>0.61</td>\n",
              "    </tr>\n",
              "    <tr>\n",
              "      <th>1173</th>\n",
              "      <td>0.35</td>\n",
              "    </tr>\n",
              "    <tr>\n",
              "      <th>1941</th>\n",
              "      <td>0.61</td>\n",
              "    </tr>\n",
              "    <tr>\n",
              "      <th>...</th>\n",
              "      <td>...</td>\n",
              "    </tr>\n",
              "    <tr>\n",
              "      <th>13453</th>\n",
              "      <td>0.78</td>\n",
              "    </tr>\n",
              "    <tr>\n",
              "      <th>21179</th>\n",
              "      <td>0.30</td>\n",
              "    </tr>\n",
              "    <tr>\n",
              "      <th>6327</th>\n",
              "      <td>0.42</td>\n",
              "    </tr>\n",
              "    <tr>\n",
              "      <th>14933</th>\n",
              "      <td>0.54</td>\n",
              "    </tr>\n",
              "    <tr>\n",
              "      <th>288</th>\n",
              "      <td>0.57</td>\n",
              "    </tr>\n",
              "  </tbody>\n",
              "</table>\n",
              "<p>13013 rows × 1 columns</p>\n",
              "</div><br><label><b>dtype:</b> float64</label>"
            ]
          },
          "metadata": {},
          "execution_count": 102
        }
      ]
    },
    {
      "cell_type": "code",
      "source": [
        "import os\n",
        "import pickle\n",
        "\n",
        "#saving the processed data\n",
        "path = '../data/processed/'\n",
        "\n",
        "# Create the directory if it doesn't exist\n",
        "os.makedirs(path, exist_ok=True)\n",
        "\n",
        "X_train.to_csv(path + 'X_train_processed.csv', index=False)\n",
        "y_train.to_csv(path + 'y_train_processed.csv', index=False)"
      ],
      "metadata": {
        "execution": {
          "iopub.status.busy": "2024-07-23T14:13:58.383414Z",
          "iopub.execute_input": "2024-07-23T14:13:58.38377Z",
          "iopub.status.idle": "2024-07-23T14:13:58.546143Z",
          "shell.execute_reply.started": "2024-07-23T14:13:58.383744Z",
          "shell.execute_reply": "2024-07-23T14:13:58.544993Z"
        },
        "trusted": true,
        "id": "65NzWxGNaEI7"
      },
      "execution_count": 103,
      "outputs": []
    },
    {
      "cell_type": "markdown",
      "source": [
        "# **Model Building**\n",
        "\n",
        "## Linear Regression"
      ],
      "metadata": {
        "id": "gGZeU0p4aEI8"
      }
    },
    {
      "cell_type": "code",
      "source": [
        "#from sklearn.linear_model import LinearRegression\n",
        "\n",
        "# Create an instance of the LinearRegression class\n",
        "linear_regression_model = LinearRegression()\n",
        "\n",
        "# Train the model\n",
        "linear_regression_model.fit(X_train, y_train)"
      ],
      "metadata": {
        "execution": {
          "iopub.status.busy": "2024-07-23T14:13:58.54732Z",
          "iopub.execute_input": "2024-07-23T14:13:58.547628Z",
          "iopub.status.idle": "2024-07-23T14:13:58.562315Z",
          "shell.execute_reply.started": "2024-07-23T14:13:58.547601Z",
          "shell.execute_reply": "2024-07-23T14:13:58.561075Z"
        },
        "trusted": true,
        "id": "M5mAR6V_aEI8",
        "outputId": "999aa21f-bf5d-4c90-c0dc-cb0168eb1244",
        "colab": {
          "base_uri": "https://localhost:8080/",
          "height": 75
        }
      },
      "execution_count": 104,
      "outputs": [
        {
          "output_type": "execute_result",
          "data": {
            "text/plain": [
              "LinearRegression()"
            ],
            "text/html": [
              "<style>#sk-container-id-3 {color: black;}#sk-container-id-3 pre{padding: 0;}#sk-container-id-3 div.sk-toggleable {background-color: white;}#sk-container-id-3 label.sk-toggleable__label {cursor: pointer;display: block;width: 100%;margin-bottom: 0;padding: 0.3em;box-sizing: border-box;text-align: center;}#sk-container-id-3 label.sk-toggleable__label-arrow:before {content: \"▸\";float: left;margin-right: 0.25em;color: #696969;}#sk-container-id-3 label.sk-toggleable__label-arrow:hover:before {color: black;}#sk-container-id-3 div.sk-estimator:hover label.sk-toggleable__label-arrow:before {color: black;}#sk-container-id-3 div.sk-toggleable__content {max-height: 0;max-width: 0;overflow: hidden;text-align: left;background-color: #f0f8ff;}#sk-container-id-3 div.sk-toggleable__content pre {margin: 0.2em;color: black;border-radius: 0.25em;background-color: #f0f8ff;}#sk-container-id-3 input.sk-toggleable__control:checked~div.sk-toggleable__content {max-height: 200px;max-width: 100%;overflow: auto;}#sk-container-id-3 input.sk-toggleable__control:checked~label.sk-toggleable__label-arrow:before {content: \"▾\";}#sk-container-id-3 div.sk-estimator input.sk-toggleable__control:checked~label.sk-toggleable__label {background-color: #d4ebff;}#sk-container-id-3 div.sk-label input.sk-toggleable__control:checked~label.sk-toggleable__label {background-color: #d4ebff;}#sk-container-id-3 input.sk-hidden--visually {border: 0;clip: rect(1px 1px 1px 1px);clip: rect(1px, 1px, 1px, 1px);height: 1px;margin: -1px;overflow: hidden;padding: 0;position: absolute;width: 1px;}#sk-container-id-3 div.sk-estimator {font-family: monospace;background-color: #f0f8ff;border: 1px dotted black;border-radius: 0.25em;box-sizing: border-box;margin-bottom: 0.5em;}#sk-container-id-3 div.sk-estimator:hover {background-color: #d4ebff;}#sk-container-id-3 div.sk-parallel-item::after {content: \"\";width: 100%;border-bottom: 1px solid gray;flex-grow: 1;}#sk-container-id-3 div.sk-label:hover label.sk-toggleable__label {background-color: #d4ebff;}#sk-container-id-3 div.sk-serial::before {content: \"\";position: absolute;border-left: 1px solid gray;box-sizing: border-box;top: 0;bottom: 0;left: 50%;z-index: 0;}#sk-container-id-3 div.sk-serial {display: flex;flex-direction: column;align-items: center;background-color: white;padding-right: 0.2em;padding-left: 0.2em;position: relative;}#sk-container-id-3 div.sk-item {position: relative;z-index: 1;}#sk-container-id-3 div.sk-parallel {display: flex;align-items: stretch;justify-content: center;background-color: white;position: relative;}#sk-container-id-3 div.sk-item::before, #sk-container-id-3 div.sk-parallel-item::before {content: \"\";position: absolute;border-left: 1px solid gray;box-sizing: border-box;top: 0;bottom: 0;left: 50%;z-index: -1;}#sk-container-id-3 div.sk-parallel-item {display: flex;flex-direction: column;z-index: 1;position: relative;background-color: white;}#sk-container-id-3 div.sk-parallel-item:first-child::after {align-self: flex-end;width: 50%;}#sk-container-id-3 div.sk-parallel-item:last-child::after {align-self: flex-start;width: 50%;}#sk-container-id-3 div.sk-parallel-item:only-child::after {width: 0;}#sk-container-id-3 div.sk-dashed-wrapped {border: 1px dashed gray;margin: 0 0.4em 0.5em 0.4em;box-sizing: border-box;padding-bottom: 0.4em;background-color: white;}#sk-container-id-3 div.sk-label label {font-family: monospace;font-weight: bold;display: inline-block;line-height: 1.2em;}#sk-container-id-3 div.sk-label-container {text-align: center;}#sk-container-id-3 div.sk-container {/* jupyter's `normalize.less` sets `[hidden] { display: none; }` but bootstrap.min.css set `[hidden] { display: none !important; }` so we also need the `!important` here to be able to override the default hidden behavior on the sphinx rendered scikit-learn.org. See: https://github.com/scikit-learn/scikit-learn/issues/21755 */display: inline-block !important;position: relative;}#sk-container-id-3 div.sk-text-repr-fallback {display: none;}</style><div id=\"sk-container-id-3\" class=\"sk-top-container\"><div class=\"sk-text-repr-fallback\"><pre>LinearRegression()</pre><b>In a Jupyter environment, please rerun this cell to show the HTML representation or trust the notebook. <br />On GitHub, the HTML representation is unable to render, please try loading this page with nbviewer.org.</b></div><div class=\"sk-container\" hidden><div class=\"sk-item\"><div class=\"sk-estimator sk-toggleable\"><input class=\"sk-toggleable__control sk-hidden--visually\" id=\"sk-estimator-id-3\" type=\"checkbox\" checked><label for=\"sk-estimator-id-3\" class=\"sk-toggleable__label sk-toggleable__label-arrow\">LinearRegression</label><div class=\"sk-toggleable__content\"><pre>LinearRegression()</pre></div></div></div></div></div>"
            ]
          },
          "metadata": {},
          "execution_count": 104
        }
      ]
    },
    {
      "cell_type": "markdown",
      "source": [
        "# RESULT"
      ],
      "metadata": {
        "id": "mZJlP9uoaEI8"
      }
    },
    {
      "cell_type": "code",
      "source": [
        "#Linear Regressing Model Performance Metrics\n",
        "\n",
        "print(\"Linear Regression Model Performance Metrics:\\n\")\n",
        "# Make predictions on the test set\n",
        "y_pred = linear_regression_model.predict(X_test)\n",
        "\n",
        "# Calculate mean squared error\n",
        "mse = mean_squared_error(y_test, y_pred)\n",
        "print(\"Mean Squared Error:\", mse)\n",
        "\n",
        "# Calculate root mean squared error\n",
        "rmse = mean_squared_error(y_test, y_pred, squared=False)\n",
        "print(\"Root Mean Squared Error:\", rmse)\n",
        "\n",
        "# Calculate mean absolute error\n",
        "mae = mean_absolute_error(y_test, y_pred)\n",
        "print(\"Mean Absolute Error:\", mae)\n",
        "\n",
        "# Calculate R-squared score\n",
        "r2 = r2_score(y_test, y_pred)\n",
        "print(\"R-squared Score:\", r2)"
      ],
      "metadata": {
        "execution": {
          "iopub.status.busy": "2024-07-23T14:13:58.563691Z",
          "iopub.execute_input": "2024-07-23T14:13:58.564047Z",
          "iopub.status.idle": "2024-07-23T14:13:58.581376Z",
          "shell.execute_reply.started": "2024-07-23T14:13:58.56401Z",
          "shell.execute_reply": "2024-07-23T14:13:58.579916Z"
        },
        "trusted": true,
        "id": "mc-jYMamaEI9",
        "outputId": "e441e79b-d2d2-4dfe-eacb-aac2cfe9e951",
        "colab": {
          "base_uri": "https://localhost:8080/"
        }
      },
      "execution_count": 105,
      "outputs": [
        {
          "output_type": "stream",
          "name": "stdout",
          "text": [
            "Linear Regression Model Performance Metrics:\n",
            "\n",
            "Mean Squared Error: 0.0031569779113610717\n",
            "Root Mean Squared Error: 0.0561869905882231\n",
            "Mean Absolute Error: 0.04595032032644773\n",
            "R-squared Score: 0.918822674247248\n"
          ]
        }
      ]
    },
    {
      "cell_type": "code",
      "source": [
        "# Initialize the Random Forest Regressor\n",
        "rf_model = RandomForestRegressor(n_estimators=100, random_state=42)\n",
        "\n",
        "# Train the model\n",
        "rf_model.fit(X_train, y_train)"
      ],
      "metadata": {
        "id": "HaT9gzXHLCUl",
        "outputId": "72f2075b-e1a3-4133-af4a-313db3ce95bf",
        "colab": {
          "base_uri": "https://localhost:8080/",
          "height": 75
        }
      },
      "execution_count": 106,
      "outputs": [
        {
          "output_type": "execute_result",
          "data": {
            "text/plain": [
              "RandomForestRegressor(random_state=42)"
            ],
            "text/html": [
              "<style>#sk-container-id-4 {color: black;}#sk-container-id-4 pre{padding: 0;}#sk-container-id-4 div.sk-toggleable {background-color: white;}#sk-container-id-4 label.sk-toggleable__label {cursor: pointer;display: block;width: 100%;margin-bottom: 0;padding: 0.3em;box-sizing: border-box;text-align: center;}#sk-container-id-4 label.sk-toggleable__label-arrow:before {content: \"▸\";float: left;margin-right: 0.25em;color: #696969;}#sk-container-id-4 label.sk-toggleable__label-arrow:hover:before {color: black;}#sk-container-id-4 div.sk-estimator:hover label.sk-toggleable__label-arrow:before {color: black;}#sk-container-id-4 div.sk-toggleable__content {max-height: 0;max-width: 0;overflow: hidden;text-align: left;background-color: #f0f8ff;}#sk-container-id-4 div.sk-toggleable__content pre {margin: 0.2em;color: black;border-radius: 0.25em;background-color: #f0f8ff;}#sk-container-id-4 input.sk-toggleable__control:checked~div.sk-toggleable__content {max-height: 200px;max-width: 100%;overflow: auto;}#sk-container-id-4 input.sk-toggleable__control:checked~label.sk-toggleable__label-arrow:before {content: \"▾\";}#sk-container-id-4 div.sk-estimator input.sk-toggleable__control:checked~label.sk-toggleable__label {background-color: #d4ebff;}#sk-container-id-4 div.sk-label input.sk-toggleable__control:checked~label.sk-toggleable__label {background-color: #d4ebff;}#sk-container-id-4 input.sk-hidden--visually {border: 0;clip: rect(1px 1px 1px 1px);clip: rect(1px, 1px, 1px, 1px);height: 1px;margin: -1px;overflow: hidden;padding: 0;position: absolute;width: 1px;}#sk-container-id-4 div.sk-estimator {font-family: monospace;background-color: #f0f8ff;border: 1px dotted black;border-radius: 0.25em;box-sizing: border-box;margin-bottom: 0.5em;}#sk-container-id-4 div.sk-estimator:hover {background-color: #d4ebff;}#sk-container-id-4 div.sk-parallel-item::after {content: \"\";width: 100%;border-bottom: 1px solid gray;flex-grow: 1;}#sk-container-id-4 div.sk-label:hover label.sk-toggleable__label {background-color: #d4ebff;}#sk-container-id-4 div.sk-serial::before {content: \"\";position: absolute;border-left: 1px solid gray;box-sizing: border-box;top: 0;bottom: 0;left: 50%;z-index: 0;}#sk-container-id-4 div.sk-serial {display: flex;flex-direction: column;align-items: center;background-color: white;padding-right: 0.2em;padding-left: 0.2em;position: relative;}#sk-container-id-4 div.sk-item {position: relative;z-index: 1;}#sk-container-id-4 div.sk-parallel {display: flex;align-items: stretch;justify-content: center;background-color: white;position: relative;}#sk-container-id-4 div.sk-item::before, #sk-container-id-4 div.sk-parallel-item::before {content: \"\";position: absolute;border-left: 1px solid gray;box-sizing: border-box;top: 0;bottom: 0;left: 50%;z-index: -1;}#sk-container-id-4 div.sk-parallel-item {display: flex;flex-direction: column;z-index: 1;position: relative;background-color: white;}#sk-container-id-4 div.sk-parallel-item:first-child::after {align-self: flex-end;width: 50%;}#sk-container-id-4 div.sk-parallel-item:last-child::after {align-self: flex-start;width: 50%;}#sk-container-id-4 div.sk-parallel-item:only-child::after {width: 0;}#sk-container-id-4 div.sk-dashed-wrapped {border: 1px dashed gray;margin: 0 0.4em 0.5em 0.4em;box-sizing: border-box;padding-bottom: 0.4em;background-color: white;}#sk-container-id-4 div.sk-label label {font-family: monospace;font-weight: bold;display: inline-block;line-height: 1.2em;}#sk-container-id-4 div.sk-label-container {text-align: center;}#sk-container-id-4 div.sk-container {/* jupyter's `normalize.less` sets `[hidden] { display: none; }` but bootstrap.min.css set `[hidden] { display: none !important; }` so we also need the `!important` here to be able to override the default hidden behavior on the sphinx rendered scikit-learn.org. See: https://github.com/scikit-learn/scikit-learn/issues/21755 */display: inline-block !important;position: relative;}#sk-container-id-4 div.sk-text-repr-fallback {display: none;}</style><div id=\"sk-container-id-4\" class=\"sk-top-container\"><div class=\"sk-text-repr-fallback\"><pre>RandomForestRegressor(random_state=42)</pre><b>In a Jupyter environment, please rerun this cell to show the HTML representation or trust the notebook. <br />On GitHub, the HTML representation is unable to render, please try loading this page with nbviewer.org.</b></div><div class=\"sk-container\" hidden><div class=\"sk-item\"><div class=\"sk-estimator sk-toggleable\"><input class=\"sk-toggleable__control sk-hidden--visually\" id=\"sk-estimator-id-4\" type=\"checkbox\" checked><label for=\"sk-estimator-id-4\" class=\"sk-toggleable__label sk-toggleable__label-arrow\">RandomForestRegressor</label><div class=\"sk-toggleable__content\"><pre>RandomForestRegressor(random_state=42)</pre></div></div></div></div></div>"
            ]
          },
          "metadata": {},
          "execution_count": 106
        }
      ]
    },
    {
      "cell_type": "code",
      "source": [
        "# Make predictions on the test set\n",
        "y_pred_rf = rf_model.predict(X_test)\n",
        "\n",
        "# Evaluate the model\n",
        "mse_rf = mean_squared_error(y_test, y_pred_rf)\n",
        "rmse_rf = mean_squared_error(y_test, y_pred_rf, squared=False)\n",
        "mae_rf = mean_absolute_error(y_test, y_pred_rf)\n",
        "r2_rf = r2_score(y_test, y_pred_rf)\n",
        "\n",
        "# Print the performance metrics\n",
        "print(\"Random Forest Regression Model Performance Metrics:\")\n",
        "print(\"Mean Squared Error:\", mse_rf)\n",
        "print(\"Root Mean Squared Error:\", rmse_rf)\n",
        "print(\"Mean Absolute Error:\", mae_rf)\n",
        "print(\"R-squared Score:\", r2_rf)\n"
      ],
      "metadata": {
        "id": "7nvfTCQ7LJNc",
        "outputId": "74113309-e03a-40d9-e002-4b812683cf7e",
        "colab": {
          "base_uri": "https://localhost:8080/"
        }
      },
      "execution_count": 107,
      "outputs": [
        {
          "output_type": "stream",
          "name": "stdout",
          "text": [
            "Random Forest Regression Model Performance Metrics:\n",
            "Mean Squared Error: 0.0033805043313928735\n",
            "Root Mean Squared Error: 0.05814210463504803\n",
            "Mean Absolute Error: 0.045886944812909815\n",
            "R-squared Score: 0.9130750011488813\n"
          ]
        }
      ]
    },
    {
      "cell_type": "code",
      "source": [
        "# Initialize the KNN Regressor\n",
        "knn_model = KNeighborsRegressor(n_neighbors=5)\n",
        "\n",
        "# Train the model\n",
        "knn_model.fit(X_train, y_train)# Initialize the KNN Regressor\n",
        "knn_model = KNeighborsRegressor(n_neighbors=5)\n",
        "\n",
        "# Train the model\n",
        "knn_model.fit(X_train, y_train)"
      ],
      "metadata": {
        "id": "munZOTP7LPQi",
        "outputId": "f6182499-52f1-4b48-dac5-015c42f1d3a9",
        "colab": {
          "base_uri": "https://localhost:8080/",
          "height": 75
        }
      },
      "execution_count": 108,
      "outputs": [
        {
          "output_type": "execute_result",
          "data": {
            "text/plain": [
              "KNeighborsRegressor()"
            ],
            "text/html": [
              "<style>#sk-container-id-5 {color: black;}#sk-container-id-5 pre{padding: 0;}#sk-container-id-5 div.sk-toggleable {background-color: white;}#sk-container-id-5 label.sk-toggleable__label {cursor: pointer;display: block;width: 100%;margin-bottom: 0;padding: 0.3em;box-sizing: border-box;text-align: center;}#sk-container-id-5 label.sk-toggleable__label-arrow:before {content: \"▸\";float: left;margin-right: 0.25em;color: #696969;}#sk-container-id-5 label.sk-toggleable__label-arrow:hover:before {color: black;}#sk-container-id-5 div.sk-estimator:hover label.sk-toggleable__label-arrow:before {color: black;}#sk-container-id-5 div.sk-toggleable__content {max-height: 0;max-width: 0;overflow: hidden;text-align: left;background-color: #f0f8ff;}#sk-container-id-5 div.sk-toggleable__content pre {margin: 0.2em;color: black;border-radius: 0.25em;background-color: #f0f8ff;}#sk-container-id-5 input.sk-toggleable__control:checked~div.sk-toggleable__content {max-height: 200px;max-width: 100%;overflow: auto;}#sk-container-id-5 input.sk-toggleable__control:checked~label.sk-toggleable__label-arrow:before {content: \"▾\";}#sk-container-id-5 div.sk-estimator input.sk-toggleable__control:checked~label.sk-toggleable__label {background-color: #d4ebff;}#sk-container-id-5 div.sk-label input.sk-toggleable__control:checked~label.sk-toggleable__label {background-color: #d4ebff;}#sk-container-id-5 input.sk-hidden--visually {border: 0;clip: rect(1px 1px 1px 1px);clip: rect(1px, 1px, 1px, 1px);height: 1px;margin: -1px;overflow: hidden;padding: 0;position: absolute;width: 1px;}#sk-container-id-5 div.sk-estimator {font-family: monospace;background-color: #f0f8ff;border: 1px dotted black;border-radius: 0.25em;box-sizing: border-box;margin-bottom: 0.5em;}#sk-container-id-5 div.sk-estimator:hover {background-color: #d4ebff;}#sk-container-id-5 div.sk-parallel-item::after {content: \"\";width: 100%;border-bottom: 1px solid gray;flex-grow: 1;}#sk-container-id-5 div.sk-label:hover label.sk-toggleable__label {background-color: #d4ebff;}#sk-container-id-5 div.sk-serial::before {content: \"\";position: absolute;border-left: 1px solid gray;box-sizing: border-box;top: 0;bottom: 0;left: 50%;z-index: 0;}#sk-container-id-5 div.sk-serial {display: flex;flex-direction: column;align-items: center;background-color: white;padding-right: 0.2em;padding-left: 0.2em;position: relative;}#sk-container-id-5 div.sk-item {position: relative;z-index: 1;}#sk-container-id-5 div.sk-parallel {display: flex;align-items: stretch;justify-content: center;background-color: white;position: relative;}#sk-container-id-5 div.sk-item::before, #sk-container-id-5 div.sk-parallel-item::before {content: \"\";position: absolute;border-left: 1px solid gray;box-sizing: border-box;top: 0;bottom: 0;left: 50%;z-index: -1;}#sk-container-id-5 div.sk-parallel-item {display: flex;flex-direction: column;z-index: 1;position: relative;background-color: white;}#sk-container-id-5 div.sk-parallel-item:first-child::after {align-self: flex-end;width: 50%;}#sk-container-id-5 div.sk-parallel-item:last-child::after {align-self: flex-start;width: 50%;}#sk-container-id-5 div.sk-parallel-item:only-child::after {width: 0;}#sk-container-id-5 div.sk-dashed-wrapped {border: 1px dashed gray;margin: 0 0.4em 0.5em 0.4em;box-sizing: border-box;padding-bottom: 0.4em;background-color: white;}#sk-container-id-5 div.sk-label label {font-family: monospace;font-weight: bold;display: inline-block;line-height: 1.2em;}#sk-container-id-5 div.sk-label-container {text-align: center;}#sk-container-id-5 div.sk-container {/* jupyter's `normalize.less` sets `[hidden] { display: none; }` but bootstrap.min.css set `[hidden] { display: none !important; }` so we also need the `!important` here to be able to override the default hidden behavior on the sphinx rendered scikit-learn.org. See: https://github.com/scikit-learn/scikit-learn/issues/21755 */display: inline-block !important;position: relative;}#sk-container-id-5 div.sk-text-repr-fallback {display: none;}</style><div id=\"sk-container-id-5\" class=\"sk-top-container\"><div class=\"sk-text-repr-fallback\"><pre>KNeighborsRegressor()</pre><b>In a Jupyter environment, please rerun this cell to show the HTML representation or trust the notebook. <br />On GitHub, the HTML representation is unable to render, please try loading this page with nbviewer.org.</b></div><div class=\"sk-container\" hidden><div class=\"sk-item\"><div class=\"sk-estimator sk-toggleable\"><input class=\"sk-toggleable__control sk-hidden--visually\" id=\"sk-estimator-id-5\" type=\"checkbox\" checked><label for=\"sk-estimator-id-5\" class=\"sk-toggleable__label sk-toggleable__label-arrow\">KNeighborsRegressor</label><div class=\"sk-toggleable__content\"><pre>KNeighborsRegressor()</pre></div></div></div></div></div>"
            ]
          },
          "metadata": {},
          "execution_count": 108
        }
      ]
    },
    {
      "cell_type": "code",
      "source": [
        "# Make predictions on the test set\n",
        "y_pred_knn = knn_model.predict(X_test)\n",
        "\n",
        "# Evaluate the model\n",
        "mse_knn = mean_squared_error(y_test, y_pred_knn)\n",
        "rmse_knn = mean_squared_error(y_test, y_pred_knn, squared=False)\n",
        "mae_knn = mean_absolute_error(y_test, y_pred_knn)\n",
        "r2_knn = r2_score(y_test, y_pred_knn)\n",
        "\n",
        "print(\"KNN Regression Model Performance Metrics:\")\n",
        "print(\"Mean Squared Error:\", mse_knn)\n",
        "print(\"Root Mean Squared Error:\", rmse_knn)\n",
        "print(\"Mean Absolute Error:\", mae_knn)\n",
        "print(\"R-squared Score:\", r2_knn)"
      ],
      "metadata": {
        "id": "Tind9LbFLRY9",
        "outputId": "0565e457-95ac-412f-8a20-7a01661ea5ac",
        "colab": {
          "base_uri": "https://localhost:8080/"
        }
      },
      "execution_count": 109,
      "outputs": [
        {
          "output_type": "stream",
          "name": "stdout",
          "text": [
            "KNN Regression Model Performance Metrics:\n",
            "Mean Squared Error: 0.00338130966469428\n",
            "Root Mean Squared Error: 0.05814902978291452\n",
            "Mean Absolute Error: 0.04616496324188633\n",
            "R-squared Score: 0.9130542931155712\n"
          ]
        }
      ]
    },
    {
      "cell_type": "code",
      "source": [
        "# Model Comparison\n",
        "# Assuming you have already trained your models and they are named lr, mlp, and knn\n",
        "\n",
        "# Making predictions\n",
        "y_pred_lr= linear_regression_model.predict(X_test)\n",
        "y_pred_mlp = rf_model.predict(X_test)\n",
        "y_pred_knn = knn_model.predict(X_test)\n",
        "\n",
        "# Model Comparison\n",
        "models = ['Linear Regression', 'Random Forest Regressor', 'KNN Regressor']\n",
        "mse_scores = [\n",
        "    mean_squared_error(y_test, y_pred_lr),\n",
        "    mean_squared_error(y_test, y_pred_rf),\n",
        "    mean_squared_error(y_test, y_pred_knn)\n",
        "]\n",
        "rmse_scores = [\n",
        "    mean_squared_error(y_test, y_pred_lr, squared=False),\n",
        "    mean_squared_error(y_test, y_pred_rf, squared=False),\n",
        "    mean_squared_error(y_test, y_pred_knn, squared=False)\n",
        "]\n",
        "mae_scores = [\n",
        "    mean_absolute_error(y_test, y_pred_lr),\n",
        "    mean_absolute_error(y_test, y_pred_rf),\n",
        "    mean_absolute_error(y_test, y_pred_knn)\n",
        "]\n",
        "r2_scores = [\n",
        "    r2_score(y_test, y_pred_lr),\n",
        "    r2_score(y_test, y_pred_rf),\n",
        "    r2_score(y_test, y_pred_knn)\n",
        "]\n",
        "\n",
        "# Create a DataFrame for comparison\n",
        "comparison_df = pd.DataFrame({\n",
        "    'Model': models,\n",
        "    'MSE': mse_scores,\n",
        "    'RMSE': rmse_scores,\n",
        "    'MAE': mae_scores,\n",
        "    'R-squared': r2_scores\n",
        "})\n",
        "\n",
        "print(\"\\nModel Comparison:\\n\", comparison_df)"
      ],
      "metadata": {
        "id": "BvvRUxHOLT5i",
        "outputId": "10b096b0-5233-4ecb-b441-472ba0377af5",
        "colab": {
          "base_uri": "https://localhost:8080/"
        }
      },
      "execution_count": 110,
      "outputs": [
        {
          "output_type": "stream",
          "name": "stdout",
          "text": [
            "\n",
            "Model Comparison:\n",
            "                      Model       MSE      RMSE       MAE  R-squared\n",
            "0        Linear Regression  0.003157  0.056187  0.045950   0.918823\n",
            "1  Random Forest Regressor  0.003381  0.058142  0.045887   0.913075\n",
            "2            KNN Regressor  0.003381  0.058149  0.046165   0.913054\n"
          ]
        }
      ]
    },
    {
      "cell_type": "code",
      "source": [
        "# Model Interpretation\n",
        "# Random Forest Feature Importance\n",
        "feature_importance_rf = pd.Series(rf_model.feature_importances_, index=X.columns).sort_values(ascending=False)\n",
        "print(\"\\nFeature Importance for Random Forest Regressor:\\n\", feature_importance_rf)"
      ],
      "metadata": {
        "id": "IY17fEmeLZKM",
        "outputId": "ffac4cf0-b307-44a2-d4e2-f495f125ab13",
        "colab": {
          "base_uri": "https://localhost:8080/"
        }
      },
      "execution_count": 111,
      "outputs": [
        {
          "output_type": "stream",
          "name": "stdout",
          "text": [
            "\n",
            "Feature Importance for Random Forest Regressor:\n",
            " Mental Fatigue Score       0.940261\n",
            "Resource Allocation        0.034261\n",
            "Designation                0.008197\n",
            "WFH Setup Available_Yes    0.005998\n",
            "Gender_Male                0.005665\n",
            "Company Type_Service       0.005619\n",
            "dtype: float64\n"
          ]
        }
      ]
    },
    {
      "cell_type": "code",
      "source": [
        "# Plotting Feature Importance for Random Forest Regressor\n",
        "plt.figure(figsize=(10, 5))\n",
        "feature_importance_rf.plot(kind='bar')\n",
        "plt.title('Feature Importance for Random Forest Regressor')\n",
        "plt.xlabel('Features')\n",
        "plt.ylabel('Importance Value')\n",
        "plt.show()"
      ],
      "metadata": {
        "id": "KP87_L7kLb_k",
        "outputId": "8f8e8803-faac-4560-953b-14c8205d6088",
        "colab": {
          "base_uri": "https://localhost:8080/",
          "height": 647
        }
      },
      "execution_count": 112,
      "outputs": [
        {
          "output_type": "display_data",
          "data": {
            "text/plain": [
              "<Figure size 1000x500 with 1 Axes>"
            ],
            "image/png": "[encoded data removed]"
          },
          "metadata": {}
        }
      ]
    },
    {
      "cell_type": "code",
      "source": [
        "# Saving the Best Model\n",
        "# Assume the Random Forest Regressor is the best model based on comparison metrics\n",
        "best_model = rf_model\n",
        "model_filename = '../models/best_model.pkl'\n",
        "os.makedirs(os.path.dirname(model_filename), exist_ok=True)\n",
        "with open(model_filename, 'wb') as model_file:\n",
        "    pickle.dump(best_model, model_file)\n",
        "print(f\"Best model saved to {model_filename}\")"
      ],
      "metadata": {
        "id": "LewkMWd4Le5_",
        "outputId": "d037e8e6-99d1-4663-e127-7fb554d4de52",
        "colab": {
          "base_uri": "https://localhost:8080/"
        }
      },
      "execution_count": 113,
      "outputs": [
        {
          "output_type": "stream",
          "name": "stdout",
          "text": [
            "Best model saved to ../models/best_model.pkl\n"
          ]
        }
      ]
    },
    {
      "cell_type": "code",
      "source": [
        "# Final Model Performance Metrics\n",
        "final_y_pred = best_model.predict(X_test)\n",
        "print(\"\\nFinal Best Model Performance Metrics:\\n\")\n",
        "print(\"Mean Squared Error:\", mean_squared_error(y_test, final_y_pred))\n",
        "print(\"Root Mean Squared Error:\", mean_squared_error(y_test, final_y_pred, squared=False))\n",
        "print(\"Mean Absolute Error:\", mean_absolute_error(y_test, final_y_pred))\n",
        "print(\"R-squared Score:\", r2_score(y_test, final_y_pred))"
      ],
      "metadata": {
        "id": "OGQcR5acLhUK",
        "outputId": "e94705cc-ee7c-43d4-dbca-0cc58e276d62",
        "colab": {
          "base_uri": "https://localhost:8080/"
        }
      },
      "execution_count": 114,
      "outputs": [
        {
          "output_type": "stream",
          "name": "stdout",
          "text": [
            "\n",
            "Final Best Model Performance Metrics:\n",
            "\n",
            "Mean Squared Error: 0.0033805043313928735\n",
            "Root Mean Squared Error: 0.05814210463504803\n",
            "Mean Absolute Error: 0.045886944812909815\n",
            "R-squared Score: 0.9130750011488813\n"
          ]
        }
      ]
    },
    {
      "cell_type": "markdown",
      "source": [
        "Based on the evaluation metrics, the Random Forest Regressor appears to be the best model for predicting burnout analysis.\n",
        "\n",
        "It has the lowest mean squared error (MSE), root mean squared error (RMSE), and mean absolute error, indicating better accuracy and precision in its predictions.\n",
        "\n",
        "While Linear Regression has a slightly higher R-squared score, the Random Forest Regressor offers both better predictive performance and valuable feature importance insights, making it the most effective choice for forecasting and addressing employee burnout. This model's robust performance and ability to identify key burnout factors provide a comprehensive solution for targeted interventions."
      ],
      "metadata": {
        "id": "0lMdjCxwaEI9"
      }
    },
    {
      "cell_type": "markdown",
      "source": [
        "# Future Work"
      ],
      "metadata": {
        "id": "Z-bFGo6faEI-"
      }
    },
    {
      "cell_type": "markdown",
      "source": [
        "Future work in employee burnout prediction includes enhancing models with advanced algorithms and interpretability techniques, integrating diverse data sources, ensuring robust data privacy, and developing systems for real-time monitoring and intervention. This will make our predictions faster although it doesn't seem to be a problem in this case.\n",
        "\n",
        "Other things to prove is trying other linear models and more complex ones, although the relationship within the input features and target is very linear. For this, we could try:\n",
        "\n",
        "* Multivariate Adaptive Regression Splines\n",
        "* Deep Neural Network\n",
        "* Decision Tree Regressor\n",
        "* Gradient Boosting Regressor"
      ],
      "metadata": {
        "id": "i-16YEHoaEI_"
      }
    },
    {
      "cell_type": "markdown",
      "source": [
        "# Conclusion"
      ],
      "metadata": {
        "id": "YplJZa_TaEI_"
      }
    },
    {
      "cell_type": "markdown",
      "source": [
        "In this project, which was part ofDomain AI&ML the final project  for the course Supervised Machine Learning: Regression from the IBM Machine Learning Professional Certificate, we created a python notebook to predict employee burnout using burn rate regression and EDA. The features we used included mental fatigue score, work from home status, and workload. To prepare the data for analysis, we treated null values and encoded categorical variables. We also studied correlations and applied techniques such as grid search cross validation to the data. We then used the R2 metric to evaluate the performance of our model. Overall, the goal of this project was to build a model that could accurately predict burnout risk and potentially be used by organizations to prevent burnout and promote the well-being of their employees."
      ],
      "metadata": {
        "id": "x2cZQze7aEJA"
      }
    }
  ]
}